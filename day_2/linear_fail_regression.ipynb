{
 "cells": [
  {
   "cell_type": "code",
   "execution_count": 1,
   "metadata": {
    "colab": {},
    "colab_type": "code",
    "id": "fxBM1nl-AlHj"
   },
   "outputs": [],
   "source": [
    "import torch.nn as nn\n",
    "import torch.nn.functional as F\n",
    "import numpy as np\n",
    "import torch.optim as optim\n",
    "import time\n",
    "import torch\n",
    "import matplotlib.pyplot as plt"
   ]
  },
  {
   "cell_type": "code",
   "execution_count": 2,
   "metadata": {},
   "outputs": [],
   "source": [
    "in_dim = 1\n"
   ]
  },
  {
   "cell_type": "code",
   "execution_count": 14,
   "metadata": {},
   "outputs": [],
   "source": [
    "class Linear_Reg(nn.Module):\n",
    "    def __init__(self):\n",
    "        super(Linear_Reg, self).__init__()\n",
    "        self.hidden1 = nn.Linear(in_dim,1)\n",
    "\n",
    "    def forward(self, x):\n",
    "        x = self.hidden1(x)\n",
    "        return x"
   ]
  },
  {
   "cell_type": "code",
   "execution_count": 15,
   "metadata": {
    "colab": {},
    "colab_type": "code",
    "id": "CjrPpL2pKPSP"
   },
   "outputs": [],
   "source": [
    "def unkown_function(x):\n",
    "  return x[0]**3 + x[0]**2 + x[0]"
   ]
  },
  {
   "cell_type": "code",
   "execution_count": 16,
   "metadata": {
    "colab": {},
    "colab_type": "code",
    "id": "c8wEUfM_AlIc"
   },
   "outputs": [],
   "source": [
    "x_train = torch.tensor([np.random.normal(scale=1,size=in_dim) for i in range(100000)])"
   ]
  },
  {
   "cell_type": "code",
   "execution_count": 17,
   "metadata": {
    "colab": {},
    "colab_type": "code",
    "id": "UHZv2arXAlIi"
   },
   "outputs": [],
   "source": [
    "y_train = torch.tensor(list(map(unkown_function,x_train)))"
   ]
  },
  {
   "cell_type": "code",
   "execution_count": 21,
   "metadata": {},
   "outputs": [
    {
     "name": "stdout",
     "output_type": "stream",
     "text": [
      "loss: 29.954381942749023 step took 0.002389192581176758\n",
      "test loss: 25.076387405395508\n",
      "loss: 7.662356853485107 step took 0.004828929901123047\n",
      "test loss: 7.462880611419678\n",
      "loss: 7.66207218170166 step took 0.0018310546875\n",
      "test loss: 7.463128089904785\n",
      "loss: 7.66207218170166 step took 0.00164794921875\n",
      "test loss: 7.463127136230469\n",
      "loss: 7.66207218170166 step took 0.01046895980834961\n",
      "test loss: 7.4631266593933105\n",
      "loss: 7.66207218170166 step took 0.0018112659454345703\n",
      "test loss: 7.4631266593933105\n",
      "loss: 7.66207218170166 step took 0.004326581954956055\n",
      "test loss: 7.4631266593933105\n",
      "loss: 7.66207218170166 step took 0.0030820369720458984\n",
      "test loss: 7.4631266593933105\n",
      "loss: 7.66207218170166 step took 0.0016505718231201172\n",
      "test loss: 7.4631266593933105\n",
      "loss: 7.66207218170166 step took 0.005976200103759766\n",
      "test loss: 7.4631266593933105\n"
     ]
    }
   ],
   "source": [
    "x_test = torch.tensor([np.random.normal(size=in_dim) for i in range(1000)])\n",
    "y_test = torch.tensor(list(map(unkown_function,x_test)))\n",
    "LR = Linear_Reg()\n",
    "optimizer = optim.SGD(LR.parameters(), lr=0.05, momentum=0.9)\n",
    "criterion = nn.MSELoss()\n",
    "epocs = 1000\n",
    "\n",
    "for j in range (epocs):\n",
    "    a= time.time()\n",
    "    output = LR(x_train.float())\n",
    "    loss = criterion(output.reshape(y_train.shape), y_train.float())\n",
    "    optimizer.zero_grad()\n",
    "    loss.backward()\n",
    "    optimizer.step()\n",
    "    b = time.time()\n",
    "    if j % 100 == 0 :\n",
    "      print (\"loss: {} step took {}\".format(loss,b-a))\n",
    "      test_output = LR(x_test.float())\n",
    "      test_loss = criterion(test_output.reshape(y_test.shape), y_test.float())\n",
    "      print (\"test loss: {}\".format(test_loss))"
   ]
  },
  {
   "cell_type": "code",
   "execution_count": 22,
   "metadata": {},
   "outputs": [
    {
     "data": {
      "text/plain": [
       "<matplotlib.collections.PathCollection at 0x7f8d16ee4518>"
      ]
     },
     "execution_count": 22,
     "metadata": {},
     "output_type": "execute_result"
    },
    {
     "data": {
      "image/png": "[encoded data removed]",
      "text/plain": [
       "<Figure size 432x288 with 1 Axes>"
      ]
     },
     "metadata": {
      "needs_background": "light"
     },
     "output_type": "display_data"
    }
   ],
   "source": [
    "plt.scatter(x_test, y_test)\n",
    "plt.scatter(x_test,test_output.cpu().detach().numpy())"
   ]
  },
  {
   "cell_type": "code",
   "execution_count": 23,
   "metadata": {
    "colab": {},
    "colab_type": "code",
    "id": "JlUyM8FtAlHz"
   },
   "outputs": [],
   "source": [
    "class FullyConnected(nn.Module):\n",
    "    def __init__(self):\n",
    "        super(FullyConnected, self).__init__()\n",
    "        self.hidden1 = nn.Linear(in_dim,3)\n",
    "        self.hidden2 = nn.Linear(3,3)\n",
    "        self.hidden3 = nn.Linear(3,1)\n",
    "\n",
    "    def forward(self, x):\n",
    "        x = F.sigmoid( self.hidden1(x))\n",
    "        x = F.sigmoid( self.hidden2(x))\n",
    "        x = self.hidden3(x)\n",
    "        return x\n"
   ]
  },
  {
   "cell_type": "code",
   "execution_count": 24,
   "metadata": {
    "colab": {
     "base_uri": "https://localhost:8080/",
     "height": 463
    },
    "colab_type": "code",
    "id": "xNrKJ0s9AlIo",
    "outputId": "b98b1b45-fcd0-4502-8e62-79d2d882b744"
   },
   "outputs": [
    {
     "name": "stderr",
     "output_type": "stream",
     "text": [
      "/home/dan/anaconda2/envs/tf2_gpu/lib/python3.6/site-packages/torch/nn/functional.py:1351: UserWarning: nn.functional.sigmoid is deprecated. Use torch.sigmoid instead.\n",
      "  warnings.warn(\"nn.functional.sigmoid is deprecated. Use torch.sigmoid instead.\")\n"
     ]
    },
    {
     "name": "stdout",
     "output_type": "stream",
     "text": [
      "loss: 23.831079483032227 step took 0.012499332427978516\n",
      "test loss: 23.23651123046875\n",
      "loss: 3.292142629623413 step took 0.00774073600769043\n",
      "test loss: 1.8514466285705566\n",
      "loss: 1.2110867500305176 step took 0.008062601089477539\n",
      "test loss: 0.4179914593696594\n",
      "loss: 1.410569429397583 step took 0.008048057556152344\n",
      "test loss: 0.6356506943702698\n",
      "loss: 0.6444618105888367 step took 0.008455276489257812\n",
      "test loss: 0.08589731156826019\n",
      "loss: 0.49531543254852295 step took 0.008708715438842773\n",
      "test loss: 0.043214768171310425\n",
      "loss: 0.5847699046134949 step took 0.008682012557983398\n",
      "test loss: 0.1964077204465866\n",
      "loss: 0.3625357449054718 step took 0.007660865783691406\n",
      "test loss: 0.019788039848208427\n",
      "loss: 0.31261566281318665 step took 0.008026599884033203\n",
      "test loss: 0.018231356516480446\n",
      "loss: 0.297267884016037 step took 0.007145404815673828\n",
      "test loss: 0.017891524359583855\n",
      "loss: 0.2587101459503174 step took 0.00821375846862793\n",
      "test loss: 0.01877698488533497\n",
      "loss: 0.23373623192310333 step took 0.008381366729736328\n",
      "test loss: 0.02037201076745987\n",
      "loss: 0.2222062349319458 step took 0.007740020751953125\n",
      "test loss: 0.020242171362042427\n",
      "loss: 0.20348410308361053 step took 0.009123086929321289\n",
      "test loss: 0.02071416936814785\n"
     ]
    },
    {
     "ename": "KeyboardInterrupt",
     "evalue": "",
     "output_type": "error",
     "traceback": [
      "\u001b[0;31m---------------------------------------------------------------------------\u001b[0m",
      "\u001b[0;31mKeyboardInterrupt\u001b[0m                         Traceback (most recent call last)",
      "\u001b[0;32m<ipython-input-24-8d4b47e18d9c>\u001b[0m in \u001b[0;36m<module>\u001b[0;34m\u001b[0m\n\u001b[1;32m     11\u001b[0m     \u001b[0mloss\u001b[0m \u001b[0;34m=\u001b[0m \u001b[0mcriterion\u001b[0m\u001b[0;34m(\u001b[0m\u001b[0moutput\u001b[0m\u001b[0;34m.\u001b[0m\u001b[0mreshape\u001b[0m\u001b[0;34m(\u001b[0m\u001b[0my_train\u001b[0m\u001b[0;34m.\u001b[0m\u001b[0mshape\u001b[0m\u001b[0;34m)\u001b[0m\u001b[0;34m,\u001b[0m \u001b[0my_train\u001b[0m\u001b[0;34m.\u001b[0m\u001b[0mfloat\u001b[0m\u001b[0;34m(\u001b[0m\u001b[0;34m)\u001b[0m\u001b[0;34m)\u001b[0m\u001b[0;34m\u001b[0m\u001b[0;34m\u001b[0m\u001b[0m\n\u001b[1;32m     12\u001b[0m     \u001b[0moptimizer\u001b[0m\u001b[0;34m.\u001b[0m\u001b[0mzero_grad\u001b[0m\u001b[0;34m(\u001b[0m\u001b[0;34m)\u001b[0m\u001b[0;34m\u001b[0m\u001b[0;34m\u001b[0m\u001b[0m\n\u001b[0;32m---> 13\u001b[0;31m     \u001b[0mloss\u001b[0m\u001b[0;34m.\u001b[0m\u001b[0mbackward\u001b[0m\u001b[0;34m(\u001b[0m\u001b[0;34m)\u001b[0m\u001b[0;34m\u001b[0m\u001b[0;34m\u001b[0m\u001b[0m\n\u001b[0m\u001b[1;32m     14\u001b[0m     \u001b[0moptimizer\u001b[0m\u001b[0;34m.\u001b[0m\u001b[0mstep\u001b[0m\u001b[0;34m(\u001b[0m\u001b[0;34m)\u001b[0m\u001b[0;34m\u001b[0m\u001b[0;34m\u001b[0m\u001b[0m\n\u001b[1;32m     15\u001b[0m     \u001b[0mb\u001b[0m \u001b[0;34m=\u001b[0m \u001b[0mtime\u001b[0m\u001b[0;34m.\u001b[0m\u001b[0mtime\u001b[0m\u001b[0;34m(\u001b[0m\u001b[0;34m)\u001b[0m\u001b[0;34m\u001b[0m\u001b[0;34m\u001b[0m\u001b[0m\n",
      "\u001b[0;32m~/anaconda2/envs/tf2_gpu/lib/python3.6/site-packages/torch/tensor.py\u001b[0m in \u001b[0;36mbackward\u001b[0;34m(self, gradient, retain_graph, create_graph)\u001b[0m\n\u001b[1;32m    164\u001b[0m                 \u001b[0mproducts\u001b[0m\u001b[0;34m.\u001b[0m \u001b[0mDefaults\u001b[0m \u001b[0mto\u001b[0m\u001b[0;31m \u001b[0m\u001b[0;31m`\u001b[0m\u001b[0;31m`\u001b[0m\u001b[0;32mFalse\u001b[0m\u001b[0;31m`\u001b[0m\u001b[0;31m`\u001b[0m\u001b[0;34m.\u001b[0m\u001b[0;34m\u001b[0m\u001b[0;34m\u001b[0m\u001b[0m\n\u001b[1;32m    165\u001b[0m         \"\"\"\n\u001b[0;32m--> 166\u001b[0;31m         \u001b[0mtorch\u001b[0m\u001b[0;34m.\u001b[0m\u001b[0mautograd\u001b[0m\u001b[0;34m.\u001b[0m\u001b[0mbackward\u001b[0m\u001b[0;34m(\u001b[0m\u001b[0mself\u001b[0m\u001b[0;34m,\u001b[0m \u001b[0mgradient\u001b[0m\u001b[0;34m,\u001b[0m \u001b[0mretain_graph\u001b[0m\u001b[0;34m,\u001b[0m \u001b[0mcreate_graph\u001b[0m\u001b[0;34m)\u001b[0m\u001b[0;34m\u001b[0m\u001b[0;34m\u001b[0m\u001b[0m\n\u001b[0m\u001b[1;32m    167\u001b[0m \u001b[0;34m\u001b[0m\u001b[0m\n\u001b[1;32m    168\u001b[0m     \u001b[0;32mdef\u001b[0m \u001b[0mregister_hook\u001b[0m\u001b[0;34m(\u001b[0m\u001b[0mself\u001b[0m\u001b[0;34m,\u001b[0m \u001b[0mhook\u001b[0m\u001b[0;34m)\u001b[0m\u001b[0;34m:\u001b[0m\u001b[0;34m\u001b[0m\u001b[0;34m\u001b[0m\u001b[0m\n",
      "\u001b[0;32m~/anaconda2/envs/tf2_gpu/lib/python3.6/site-packages/torch/autograd/__init__.py\u001b[0m in \u001b[0;36mbackward\u001b[0;34m(tensors, grad_tensors, retain_graph, create_graph, grad_variables)\u001b[0m\n\u001b[1;32m     97\u001b[0m     Variable._execution_engine.run_backward(\n\u001b[1;32m     98\u001b[0m         \u001b[0mtensors\u001b[0m\u001b[0;34m,\u001b[0m \u001b[0mgrad_tensors\u001b[0m\u001b[0;34m,\u001b[0m \u001b[0mretain_graph\u001b[0m\u001b[0;34m,\u001b[0m \u001b[0mcreate_graph\u001b[0m\u001b[0;34m,\u001b[0m\u001b[0;34m\u001b[0m\u001b[0;34m\u001b[0m\u001b[0m\n\u001b[0;32m---> 99\u001b[0;31m         allow_unreachable=True)  # allow_unreachable flag\n\u001b[0m\u001b[1;32m    100\u001b[0m \u001b[0;34m\u001b[0m\u001b[0m\n\u001b[1;32m    101\u001b[0m \u001b[0;34m\u001b[0m\u001b[0m\n",
      "\u001b[0;31mKeyboardInterrupt\u001b[0m: "
     ]
    }
   ],
   "source": [
    "x_test = torch.tensor([np.random.normal(size=in_dim) for i in range(1000)])\n",
    "y_test = torch.tensor(list(map(unkown_function,x_test)))\n",
    "FC = FullyConnected()\n",
    "optimizer = optim.SGD(FC.parameters(), lr=0.05, momentum=0.9)\n",
    "criterion = nn.MSELoss()\n",
    "epocs = 1000\n",
    "\n",
    "for j in range (epocs):\n",
    "    a= time.time()\n",
    "    output = FC(x_train.float())\n",
    "    loss = criterion(output.reshape(y_train.shape), y_train.float())\n",
    "    optimizer.zero_grad()\n",
    "    loss.backward()\n",
    "    optimizer.step()\n",
    "    b = time.time()\n",
    "    if j % 100 == 0 :\n",
    "      print (\"loss: {} step took {}\".format(loss,b-a))\n",
    "      test_output = FC(x_test.float())\n",
    "      test_loss = criterion(test_output.reshape(y_test.shape), y_test.float())\n",
    "      print (\"test loss: {}\".format(test_loss))"
   ]
  },
  {
   "cell_type": "code",
   "execution_count": 25,
   "metadata": {
    "colab": {
     "base_uri": "https://localhost:8080/",
     "height": 302
    },
    "colab_type": "code",
    "id": "znNTut87HveP",
    "outputId": "a1514663-cae4-46f5-cf8b-83047f557cef"
   },
   "outputs": [
    {
     "data": {
      "text/plain": [
       "<matplotlib.collections.PathCollection at 0x7f8d16e26240>"
      ]
     },
     "execution_count": 25,
     "metadata": {},
     "output_type": "execute_result"
    },
    {
     "data": {
      "image/png": "[encoded data removed]",
      "text/plain": [
       "<Figure size 432x288 with 1 Axes>"
      ]
     },
     "metadata": {
      "needs_background": "light"
     },
     "output_type": "display_data"
    }
   ],
   "source": [
    "plt.scatter(x_test, y_test)\n",
    "plt.scatter(x_test,test_output.cpu().detach().numpy())"
   ]
  },
  {
   "cell_type": "code",
   "execution_count": null,
   "metadata": {},
   "outputs": [],
   "source": []
  }
 ],
 "metadata": {
  "accelerator": "GPU",
  "colab": {
   "name": "mlp_regression.ipynb",
   "provenance": []
  },
  "kernelspec": {
   "display_name": "Python [conda env:tf2_gpu] *",
   "language": "python",
   "name": "conda-env-tf2_gpu-py"
  },
  "language_info": {
   "codemirror_mode": {
    "name": "ipython",
    "version": 3
   },
   "file_extension": ".py",
   "mimetype": "text/x-python",
   "name": "python",
   "nbconvert_exporter": "python",
   "pygments_lexer": "ipython3",
   "version": "3.6.7"
  }
 },
 "nbformat": 4,
 "nbformat_minor": 1
}
