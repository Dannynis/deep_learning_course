{
 "cells": [
  {
   "cell_type": "markdown",
   "metadata": {},
   "source": [
    "# Model Zoo -- Logistic Regression"
   ]
  },
  {
   "cell_type": "markdown",
   "metadata": {},
   "source": [
    "Implementation of *classic* logistic regression for binary class labels."
   ]
  },
  {
   "cell_type": "markdown",
   "metadata": {},
   "source": [
    "## Imports"
   ]
  },
  {
   "cell_type": "code",
   "execution_count": 1,
   "metadata": {},
   "outputs": [],
   "source": [
    "%matplotlib inline\n",
    "import matplotlib.pyplot as plt\n",
    "import numpy as np\n",
    "from io import BytesIO\n",
    "\n",
    "import torch\n",
    "import torch.nn.functional as F"
   ]
  },
  {
   "cell_type": "markdown",
   "metadata": {},
   "source": [
    "## Preparing a toy dataset"
   ]
  },
  {
   "cell_type": "code",
   "execution_count": 2,
   "metadata": {},
   "outputs": [
    {
     "data": {
      "image/png": "[encoded data removed]",
      "text/plain": [
       "<Figure size 504x180 with 2 Axes>"
      ]
     },
     "metadata": {
      "needs_background": "light"
     },
     "output_type": "display_data"
    }
   ],
   "source": [
    "##########################\n",
    "### DATASET\n",
    "##########################\n",
    "\n",
    "ds = np.lib.DataSource()\n",
    "fp = ds.open('https://archive.ics.uci.edu/ml/machine-learning-databases/iris/iris.data')\n",
    "\n",
    "x = np.genfromtxt(BytesIO(fp.read().encode()), delimiter=',', usecols=range(2), max_rows=100)\n",
    "y = np.zeros(100)\n",
    "y[50:] = 1\n",
    "\n",
    "np.random.seed(1)\n",
    "idx = np.arange(y.shape[0])\n",
    "np.random.shuffle(idx)\n",
    "X_test, y_test = x[idx[:25]], y[idx[:25]]\n",
    "X_train, y_train = x[idx[25:]], y[idx[25:]]\n",
    "mu, std = np.mean(X_train, axis=0), np.std(X_train, axis=0)\n",
    "X_train, X_test = (X_train - mu) / std, (X_test - mu) / std\n",
    "\n",
    "fig, ax = plt.subplots(1, 2, figsize=(7, 2.5))\n",
    "ax[0].scatter(X_train[y_train == 1, 0], X_train[y_train == 1, 1])\n",
    "ax[0].scatter(X_train[y_train == 0, 0], X_train[y_train == 0, 1])\n",
    "ax[1].scatter(X_test[y_test == 1, 0], X_test[y_test == 1, 1])\n",
    "ax[1].scatter(X_test[y_test == 0, 0], X_test[y_test == 0, 1])\n",
    "plt.show()"
   ]
  },
  {
   "cell_type": "markdown",
   "metadata": {},
   "source": [
    "## Low-level implementation with manual gradients"
   ]
  },
  {
   "cell_type": "code",
   "execution_count": 3,
   "metadata": {},
   "outputs": [],
   "source": [
    "device = torch.device(\"cuda:0\" if torch.cuda.is_available() else \"cpu\")\n",
    "\n",
    "\n",
    "def custom_where(cond, x_1, x_2):\n",
    "    return (cond * x_1) + ((torch.logical_not(cond)) * x_2)\n",
    "\n",
    "\n",
    "class LogisticRegression1():\n",
    "    def __init__(self, num_features):\n",
    "        self.num_features = num_features\n",
    "        self.weights = torch.zeros(num_features, 1, \n",
    "                                   dtype=torch.float32, device=device)\n",
    "        self.bias = torch.zeros(1, dtype=torch.float32, device=device)\n",
    "\n",
    "    def forward(self, x):\n",
    "        linear = torch.add(torch.mm(x, self.weights), self.bias)\n",
    "        probas = self._sigmoid(linear)\n",
    "        return probas\n",
    "        \n",
    "    def backward(self, probas, y):  \n",
    "        errors = y - probas.view(-1)\n",
    "        return errors\n",
    "            \n",
    "    def predict_labels(self, x):\n",
    "        probas = self.forward(x)\n",
    "        labels = custom_where(probas >= .5, 1, 0)\n",
    "        return labels    \n",
    "            \n",
    "    def evaluate(self, x, y):\n",
    "        labels = self.predict_labels(x).float()\n",
    "        accuracy = torch.sum(labels.view(-1) == y) / y.size()[0]\n",
    "        return accuracy\n",
    "    \n",
    "    def _sigmoid(self, z):\n",
    "        return 1. / (1. + torch.exp(-z))\n",
    "    \n",
    "    def _logit_cost(self, y, proba):\n",
    "        tmp1 = torch.mm(-y.view(1, -1), torch.log(proba))\n",
    "        tmp2 = torch.mm((1 - y).view(1, -1), torch.log(1 - proba))\n",
    "        return tmp1 - tmp2\n",
    "    \n",
    "    def train(self, x, y, num_epochs, learning_rate=0.01):\n",
    "        for e in range(num_epochs):\n",
    "            \n",
    "            #### Compute outputs ####\n",
    "            probas = self.forward(x)\n",
    "            \n",
    "            #### Compute gradients ####\n",
    "            errors = self.backward(probas, y)\n",
    "            neg_grad = torch.mm(x.transpose(0, 1), errors.view(-1, 1))\n",
    "            \n",
    "            #### Update weights ####\n",
    "            self.weights += learning_rate * neg_grad\n",
    "            self.bias += learning_rate * torch.sum(errors)\n",
    "            \n",
    "            #### Logging ####\n",
    "            print('Epoch: %03d' % (e+1), end=\"\")\n",
    "            print(' | Train ACC: %.3f' % self.evaluate(x, y), end=\"\")\n",
    "            print(' | Cost: %.3f' % self._logit_cost(y, self.forward(x)))"
   ]
  },
  {
   "cell_type": "code",
   "execution_count": 4,
   "metadata": {},
   "outputs": [
    {
     "name": "stdout",
     "output_type": "stream",
     "text": [
      "Epoch: 001 | Train ACC: 0.000 | Cost: 5.581\n",
      "Epoch: 002 | Train ACC: 0.000 | Cost: 4.882\n",
      "Epoch: 003 | Train ACC: 1.000 | Cost: 4.381\n",
      "Epoch: 004 | Train ACC: 1.000 | Cost: 3.998\n",
      "Epoch: 005 | Train ACC: 1.000 | Cost: 3.693\n",
      "Epoch: 006 | Train ACC: 1.000 | Cost: 3.443\n",
      "Epoch: 007 | Train ACC: 1.000 | Cost: 3.232\n",
      "Epoch: 008 | Train ACC: 1.000 | Cost: 3.052\n",
      "Epoch: 009 | Train ACC: 1.000 | Cost: 2.896\n",
      "Epoch: 010 | Train ACC: 1.000 | Cost: 2.758\n",
      "\n",
      "Model parameters:\n",
      "  Weights: tensor([[ 4.2267],\n",
      "        [-2.9613]])\n",
      "  Bias: tensor([0.0994])\n"
     ]
    }
   ],
   "source": [
    "X_train_tensor = torch.tensor(X_train, dtype=torch.float32, device=device)\n",
    "y_train_tensor = torch.tensor(y_train, dtype=torch.float32, device=device)\n",
    "\n",
    "logr = LogisticRegression1(num_features=2)\n",
    "logr.train(X_train_tensor, y_train_tensor, num_epochs=10, learning_rate=0.1)\n",
    "\n",
    "print('\\nModel parameters:')\n",
    "print('  Weights: %s' % logr.weights)\n",
    "print('  Bias: %s' % logr.bias)"
   ]
  },
  {
   "cell_type": "markdown",
   "metadata": {},
   "source": [
    "#### Evaluating the Model"
   ]
  },
  {
   "cell_type": "code",
   "execution_count": 5,
   "metadata": {},
   "outputs": [
    {
     "name": "stdout",
     "output_type": "stream",
     "text": [
      "Test set accuracy: 100.00%\n"
     ]
    }
   ],
   "source": [
    "X_test_tensor = torch.tensor(X_test, dtype=torch.float32, device=device)\n",
    "y_test_tensor = torch.tensor(y_test, dtype=torch.float32, device=device)\n",
    "\n",
    "test_acc = logr.evaluate(X_test_tensor, y_test_tensor)\n",
    "print('Test set accuracy: %.2f%%' % (test_acc*100))"
   ]
  },
  {
   "cell_type": "code",
   "execution_count": 6,
   "metadata": {},
   "outputs": [
    {
     "data": {
      "image/png": "[encoded data removed]",
      "text/plain": [
       "<Figure size 504x216 with 2 Axes>"
      ]
     },
     "metadata": {
      "needs_background": "light"
     },
     "output_type": "display_data"
    }
   ],
   "source": [
    "##########################\n",
    "### 2D Decision Boundary\n",
    "##########################\n",
    "\n",
    "w, b = logr.weights, logr.bias\n",
    "\n",
    "x_min = -2\n",
    "y_min = ( (-(w[0] * x_min) - b[0]) \n",
    "          / w[1] )\n",
    "\n",
    "x_max = 2\n",
    "y_max = ( (-(w[0] * x_max) - b[0]) \n",
    "          / w[1] )\n",
    "\n",
    "\n",
    "fig, ax = plt.subplots(1, 2, sharex=True, figsize=(7, 3))\n",
    "\n",
    "ax[0].plot([x_min, x_max], [y_min, y_max])\n",
    "ax[1].plot([x_min, x_max], [y_min, y_max])\n",
    "\n",
    "ax[0].scatter(X_train[y_train==0, 0], X_train[y_train==0, 1], label='class 0', marker='o')\n",
    "ax[0].scatter(X_train[y_train==1, 0], X_train[y_train==1, 1], label='class 1', marker='s')\n",
    "\n",
    "ax[1].scatter(X_test[y_test==0, 0], X_test[y_test==0, 1], label='class 0', marker='o')\n",
    "ax[1].scatter(X_test[y_test==1, 0], X_test[y_test==1, 1], label='class 1', marker='s')\n",
    "\n",
    "ax[1].legend(loc='upper left')\n",
    "plt.show()"
   ]
  },
  {
   "cell_type": "markdown",
   "metadata": {},
   "source": [
    "## Low-level implementation using autograd"
   ]
  },
  {
   "cell_type": "code",
   "execution_count": 7,
   "metadata": {},
   "outputs": [],
   "source": [
    "def custom_where(cond, x_1, x_2):\n",
    "    return (cond * x_1) + ((1-cond) * x_2)\n",
    "\n",
    "\n",
    "class LogisticRegression2():\n",
    "    def __init__(self, num_features):\n",
    "        self.num_features = num_features\n",
    "        \n",
    "        self.weights = torch.zeros(num_features, 1, \n",
    "                                   dtype=torch.float32,\n",
    "                                   device=device,\n",
    "                                   requires_grad=True) # req. for autograd!\n",
    "        self.bias = torch.zeros(1, \n",
    "                                dtype=torch.float32,\n",
    "                                device=device,\n",
    "                                requires_grad=True) # req. for autograd!\n",
    "\n",
    "    def forward(self, x):\n",
    "        linear = torch.add(torch.mm(x, self.weights), self.bias)\n",
    "        probas = self._sigmoid(linear)\n",
    "        return probas\n",
    "                    \n",
    "    def predict_labels(self, x):\n",
    "        probas = self.forward(x)\n",
    "        labels = custom_where((probas >= .5).float(), 1, 0)\n",
    "        return labels    \n",
    "            \n",
    "    def evaluate(self, x, y):\n",
    "        labels = self.predict_labels(x)\n",
    "        accuracy = (torch.sum(labels.view(-1) == y.view(-1))).float() / y.size()[0]\n",
    "        return accuracy\n",
    "    \n",
    "    def _sigmoid(self, z):\n",
    "        return 1. / (1. + torch.exp(-z))\n",
    "    \n",
    "    def _logit_cost(self, y, proba):\n",
    "        tmp1 = torch.mm(-y.view(1, -1), torch.log(proba))\n",
    "        tmp2 = torch.mm((1 - y).view(1, -1), torch.log(1 - proba))\n",
    "        return tmp1 - tmp2\n",
    "    \n",
    "    def train(self, x, y, num_epochs, learning_rate=0.01):\n",
    "        \n",
    "        for e in range(num_epochs):\n",
    "            \n",
    "            #### Compute outputs ####\n",
    "            proba = self.forward(x)\n",
    "            cost = self._logit_cost(y, proba)\n",
    "            \n",
    "            #### Compute gradients ####\n",
    "            cost.backward()\n",
    "            \n",
    "            #### Update weights ####\n",
    "            \n",
    "            tmp = self.weights.detach()\n",
    "            tmp -= learning_rate * self.weights.grad\n",
    "            \n",
    "            tmp = self.bias.detach()\n",
    "            tmp -= learning_rate * self.bias.grad\n",
    "            \n",
    "            #### Reset gradients to zero for next iteration ####\n",
    "            self.weights.grad.zero_()\n",
    "            self.bias.grad.zero_()\n",
    "    \n",
    "            #### Logging ####\n",
    "            print('Epoch: %03d' % (e+1), end=\"\")\n",
    "            print(' | Train ACC: %.3f' % self.evaluate(x, y), end=\"\")\n",
    "            print(' | Cost: %.3f' % self._logit_cost(y, self.forward(x)))\n",
    "            \n"
   ]
  },
  {
   "cell_type": "code",
   "execution_count": 8,
   "metadata": {},
   "outputs": [
    {
     "name": "stdout",
     "output_type": "stream",
     "text": [
      "Epoch: 001 | Train ACC: 0.987 | Cost: 5.581\n",
      "Epoch: 002 | Train ACC: 0.987 | Cost: 4.882\n",
      "Epoch: 003 | Train ACC: 1.000 | Cost: 4.381\n",
      "Epoch: 004 | Train ACC: 1.000 | Cost: 3.998\n",
      "Epoch: 005 | Train ACC: 1.000 | Cost: 3.693\n",
      "Epoch: 006 | Train ACC: 1.000 | Cost: 3.443\n",
      "Epoch: 007 | Train ACC: 1.000 | Cost: 3.232\n",
      "Epoch: 008 | Train ACC: 1.000 | Cost: 3.052\n",
      "Epoch: 009 | Train ACC: 1.000 | Cost: 2.896\n",
      "Epoch: 010 | Train ACC: 1.000 | Cost: 2.758\n",
      "\n",
      "Model parameters:\n",
      "  Weights: tensor([[ 4.2267],\n",
      "        [-2.9613]], requires_grad=True)\n",
      "  Bias: tensor([0.0994], requires_grad=True)\n"
     ]
    }
   ],
   "source": [
    "X_train_tensor = torch.tensor(X_train, dtype=torch.float32, device=device)\n",
    "y_train_tensor = torch.tensor(y_train, dtype=torch.float32, device=device)\n",
    "\n",
    "logr = LogisticRegression2(num_features=2)\n",
    "logr.train(X_train_tensor, y_train_tensor, num_epochs=10, learning_rate=0.1)\n",
    "\n",
    "print('\\nModel parameters:')\n",
    "print('  Weights: %s' % logr.weights)\n",
    "print('  Bias: %s' % logr.bias)"
   ]
  },
  {
   "cell_type": "markdown",
   "metadata": {},
   "source": [
    "#### Evaluating the Model"
   ]
  },
  {
   "cell_type": "code",
   "execution_count": 9,
   "metadata": {},
   "outputs": [
    {
     "name": "stdout",
     "output_type": "stream",
     "text": [
      "Test set accuracy: 100.00%\n"
     ]
    }
   ],
   "source": [
    "X_test_tensor = torch.tensor(X_test, dtype=torch.float32, device=device)\n",
    "y_test_tensor = torch.tensor(y_test, dtype=torch.float32, device=device)\n",
    "\n",
    "test_acc = logr.evaluate(X_test_tensor, y_test_tensor)\n",
    "print('Test set accuracy: %.2f%%' % (test_acc*100))"
   ]
  },
  {
   "cell_type": "code",
   "execution_count": 10,
   "metadata": {},
   "outputs": [
    {
     "data": {
      "image/png": "[encoded data removed]",
      "text/plain": [
       "<Figure size 504x216 with 2 Axes>"
      ]
     },
     "metadata": {
      "needs_background": "light"
     },
     "output_type": "display_data"
    }
   ],
   "source": [
    "##########################\n",
    "### 2D Decision Boundary\n",
    "##########################\n",
    "\n",
    "w, b = logr.weights, logr.bias\n",
    "\n",
    "x_min = -2\n",
    "y_min = ( (-(w[0] * x_min) - b[0]) \n",
    "          / w[1] )\n",
    "\n",
    "x_max = 2\n",
    "y_max = ( (-(w[0] * x_max) - b[0]) \n",
    "          / w[1] )\n",
    "\n",
    "\n",
    "fig, ax = plt.subplots(1, 2, sharex=True, figsize=(7, 3))\n",
    "\n",
    "ax[0].plot([x_min, x_max], [y_min, y_max])\n",
    "ax[1].plot([x_min, x_max], [y_min, y_max])\n",
    "\n",
    "ax[0].scatter(X_train[y_train==0, 0], X_train[y_train==0, 1], label='class 0', marker='o')\n",
    "ax[0].scatter(X_train[y_train==1, 0], X_train[y_train==1, 1], label='class 1', marker='s')\n",
    "\n",
    "ax[1].scatter(X_test[y_test==0, 0], X_test[y_test==0, 1], label='class 0', marker='o')\n",
    "ax[1].scatter(X_test[y_test==1, 0], X_test[y_test==1, 1], label='class 1', marker='s')\n",
    "\n",
    "ax[1].legend(loc='upper left')\n",
    "plt.show()"
   ]
  },
  {
   "cell_type": "markdown",
   "metadata": {},
   "source": [
    "## High-level implementation using the nn.Module API"
   ]
  },
  {
   "cell_type": "code",
   "execution_count": 24,
   "metadata": {},
   "outputs": [],
   "source": [
    "class LogisticRegression3(torch.nn.Module):\n",
    "\n",
    "    def __init__(self, num_features):\n",
    "        super(LogisticRegression3, self).__init__()\n",
    "        self.linear = torch.nn.Linear(num_features, 1)\n",
    "        # initialize weights to zeros here,\n",
    "        # since we used zero weights in the\n",
    "        # manual approach\n",
    "        \n",
    "        self.linear.weight.detach().zero_()\n",
    "        self.linear.bias.detach().zero_()\n",
    "        # Note: the trailing underscore\n",
    "        # means \"in-place operation\" in the context\n",
    "        # of PyTorch\n",
    "        \n",
    "    def forward(self, x):\n",
    "        logits = self.linear(x)\n",
    "        probas = torch.sigmoid(logits)\n",
    "        return probas\n",
    "\n",
    "model = LogisticRegression3(num_features=2).to(device)"
   ]
  },
  {
   "cell_type": "code",
   "execution_count": 25,
   "metadata": {},
   "outputs": [],
   "source": [
    "##### Define cost function and set up optimizer #####\n",
    "cost_fn = torch.nn.BCELoss(reduction='sum')\n",
    "# average_size=False to match results in\n",
    "# manual approach, where we did not normalize\n",
    "# the cost by the batch size\n",
    "optimizer = torch.optim.SGD(model.parameters(), lr=0.1)"
   ]
  },
  {
   "cell_type": "code",
   "execution_count": 48,
   "metadata": {
    "scrolled": true
   },
   "outputs": [
    {
     "name": "stdout",
     "output_type": "stream",
     "text": [
      "Epoch: 001 | Train ACC: 1.000 | Cost: 1.888\n",
      "Epoch: 002 | Train ACC: 1.000 | Cost: 1.840\n",
      "Epoch: 003 | Train ACC: 1.000 | Cost: 1.795\n",
      "Epoch: 004 | Train ACC: 1.000 | Cost: 1.752\n",
      "Epoch: 005 | Train ACC: 1.000 | Cost: 1.713\n",
      "Epoch: 006 | Train ACC: 1.000 | Cost: 1.675\n",
      "Epoch: 007 | Train ACC: 1.000 | Cost: 1.639\n",
      "Epoch: 008 | Train ACC: 1.000 | Cost: 1.605\n",
      "Epoch: 009 | Train ACC: 1.000 | Cost: 1.573\n",
      "Epoch: 010 | Train ACC: 1.000 | Cost: 1.543\n",
      "\n",
      "Model parameters:\n",
      "  Weights: Parameter containing:\n",
      "tensor([[ 5.5787, -3.6722]], requires_grad=True)\n",
      "  Bias: Parameter containing:\n",
      "tensor([0.2920], requires_grad=True)\n"
     ]
    }
   ],
   "source": [
    "def comp_accuracy(label_var, pred_probas):\n",
    "    pred_labels = custom_where((pred_probas > 0.5).float(), 1, 0).view(-1)\n",
    "    acc = torch.sum(pred_labels == label_var.view(-1)).float() / label_var.size(0)\n",
    "    return acc\n",
    "\n",
    "\n",
    "num_epochs = 10\n",
    "\n",
    "X_train_tensor = torch.tensor(X_train, dtype=torch.float32, device=device)\n",
    "y_train_tensor = torch.tensor(y_train, dtype=torch.float32, device=device).view(-1, 1)\n",
    "\n",
    "\n",
    "for epoch in range(num_epochs):\n",
    "    \n",
    "    #### Compute outputs ####\n",
    "    out = model(X_train_tensor)\n",
    "    \n",
    "    #### Compute gradients ####\n",
    "    cost = cost_fn(out, y_train_tensor)\n",
    "    optimizer.zero_grad()\n",
    "    cost.backward()\n",
    "    \n",
    "    #### Update weights ####  \n",
    "    optimizer.step()\n",
    "    \n",
    "    #### Logging ####      \n",
    "    pred_probas = model(X_train_tensor)\n",
    "    acc = comp_accuracy(y_train_tensor, pred_probas)\n",
    "    print('Epoch: %03d' % (epoch + 1), end=\"\")\n",
    "    print(' | Train ACC: %.3f' % acc, end=\"\")\n",
    "    print(' | Cost: %.3f' % cost_fn(pred_probas, y_train_tensor))\n",
    "\n",
    "\n",
    "    \n",
    "print('\\nModel parameters:')\n",
    "print('  Weights: %s' % model.linear.weight)\n",
    "print('  Bias: %s' % model.linear.bias)"
   ]
  },
  {
   "cell_type": "markdown",
   "metadata": {},
   "source": [
    "#### Evaluating the Model"
   ]
  },
  {
   "cell_type": "code",
   "execution_count": 14,
   "metadata": {},
   "outputs": [
    {
     "name": "stdout",
     "output_type": "stream",
     "text": [
      "Test set accuracy: 100.00%\n"
     ]
    }
   ],
   "source": [
    "X_test_tensor = torch.tensor(X_test, dtype=torch.float32, device=device)\n",
    "y_test_tensor = torch.tensor(y_test, dtype=torch.float32, device=device)\n",
    "\n",
    "pred_probas = model(X_test_tensor)\n",
    "test_acc = comp_accuracy(y_test_tensor, pred_probas)\n",
    "\n",
    "print('Test set accuracy: %.2f%%' % (test_acc*100))"
   ]
  },
  {
   "cell_type": "code",
   "execution_count": 15,
   "metadata": {},
   "outputs": [
    {
     "data": {
      "image/png": "[encoded data removed]",
      "text/plain": [
       "<Figure size 504x216 with 2 Axes>"
      ]
     },
     "metadata": {
      "needs_background": "light"
     },
     "output_type": "display_data"
    }
   ],
   "source": [
    "##########################\n",
    "### 2D Decision Boundary\n",
    "##########################\n",
    "\n",
    "######### extract model weights ############\n",
    "w, b = model.linear.weight.T,  model.linear.bias\n",
    "############################################\n",
    "\n",
    "x_min = -2\n",
    "y_min = ( (-(w[0] * x_min) - b[0]) \n",
    "          / w[1] )\n",
    "\n",
    "x_max = 2\n",
    "y_max = ( (-(w[0] * x_max) - b[0]) \n",
    "          / w[1] )\n",
    "\n",
    "\n",
    "fig, ax = plt.subplots(1, 2, sharex=True, figsize=(7, 3))\n",
    "ax[0].plot([x_min, x_max], [y_min, y_max])\n",
    "ax[1].plot([x_min, x_max], [y_min, y_max])\n",
    "\n",
    "ax[0].scatter(X_train[y_train==0, 0], X_train[y_train==0, 1], label='class 0', marker='o')\n",
    "ax[0].scatter(X_train[y_train==1, 0], X_train[y_train==1, 1], label='class 1', marker='s')\n",
    "\n",
    "ax[1].scatter(X_test[y_test==0, 0], X_test[y_test==0, 1], label='class 0', marker='o')\n",
    "ax[1].scatter(X_test[y_test==1, 0], X_test[y_test==1, 1], label='class 1', marker='s')\n",
    "\n",
    "ax[1].legend(loc='upper left')\n",
    "plt.show()"
   ]
  },
  {
   "cell_type": "code",
   "execution_count": null,
   "metadata": {},
   "outputs": [],
   "source": [
    "from torch.utils.data import DataLoader"
   ]
  },
  {
   "cell_type": "markdown",
   "metadata": {},
   "source": [
    "![title](Linear_logistic.png)"
   ]
  },
  {
   "cell_type": "markdown",
   "metadata": {},
   "source": [
    "## mini batch using data loader"
   ]
  },
  {
   "cell_type": "code",
   "execution_count": 56,
   "metadata": {},
   "outputs": [],
   "source": [
    "trainloader = torch.utils.data.DataLoader(list(zip(X_train,y_train)), shuffle=True, batch_size=5)"
   ]
  },
  {
   "cell_type": "code",
   "execution_count": 60,
   "metadata": {},
   "outputs": [
    {
     "name": "stdout",
     "output_type": "stream",
     "text": [
      "Epoch: 001 | Train ACC: 0.947 | Cost: 44.913\n",
      "Epoch: 001 | Train ACC: 0.947 | Cost: 38.945\n",
      "Epoch: 001 | Train ACC: 0.960 | Cost: 33.369\n",
      "Epoch: 001 | Train ACC: 0.987 | Cost: 30.354\n",
      "Epoch: 001 | Train ACC: 0.960 | Cost: 28.301\n",
      "Epoch: 001 | Train ACC: 0.933 | Cost: 26.970\n",
      "Epoch: 001 | Train ACC: 0.987 | Cost: 24.900\n",
      "Epoch: 001 | Train ACC: 0.987 | Cost: 22.184\n",
      "Epoch: 001 | Train ACC: 1.000 | Cost: 20.260\n",
      "Epoch: 001 | Train ACC: 1.000 | Cost: 19.126\n",
      "Epoch: 001 | Train ACC: 1.000 | Cost: 17.693\n",
      "Epoch: 001 | Train ACC: 1.000 | Cost: 16.572\n",
      "Epoch: 001 | Train ACC: 1.000 | Cost: 15.715\n",
      "Epoch: 001 | Train ACC: 1.000 | Cost: 15.091\n",
      "Epoch: 001 | Train ACC: 0.987 | Cost: 14.472\n",
      "Epoch: 002 | Train ACC: 0.987 | Cost: 13.991\n",
      "Epoch: 002 | Train ACC: 0.987 | Cost: 13.547\n",
      "Epoch: 002 | Train ACC: 0.987 | Cost: 13.169\n",
      "Epoch: 002 | Train ACC: 0.987 | Cost: 12.659\n",
      "Epoch: 002 | Train ACC: 0.987 | Cost: 12.219\n",
      "Epoch: 002 | Train ACC: 0.987 | Cost: 11.859\n",
      "Epoch: 002 | Train ACC: 0.987 | Cost: 11.482\n",
      "Epoch: 002 | Train ACC: 1.000 | Cost: 11.182\n",
      "Epoch: 002 | Train ACC: 1.000 | Cost: 11.061\n",
      "Epoch: 002 | Train ACC: 1.000 | Cost: 10.758\n",
      "Epoch: 002 | Train ACC: 1.000 | Cost: 10.436\n",
      "Epoch: 002 | Train ACC: 1.000 | Cost: 10.208\n",
      "Epoch: 002 | Train ACC: 1.000 | Cost: 10.044\n",
      "Epoch: 002 | Train ACC: 1.000 | Cost: 9.832\n",
      "Epoch: 002 | Train ACC: 0.987 | Cost: 9.546\n",
      "Epoch: 003 | Train ACC: 0.987 | Cost: 9.449\n",
      "Epoch: 003 | Train ACC: 0.987 | Cost: 9.305\n",
      "Epoch: 003 | Train ACC: 0.987 | Cost: 9.211\n",
      "Epoch: 003 | Train ACC: 0.987 | Cost: 9.021\n",
      "Epoch: 003 | Train ACC: 0.987 | Cost: 8.910\n",
      "Epoch: 003 | Train ACC: 0.987 | Cost: 8.658\n",
      "Epoch: 003 | Train ACC: 0.987 | Cost: 8.491\n",
      "Epoch: 003 | Train ACC: 0.987 | Cost: 8.339\n",
      "Epoch: 003 | Train ACC: 0.987 | Cost: 8.147\n",
      "Epoch: 003 | Train ACC: 0.987 | Cost: 8.028\n",
      "Epoch: 003 | Train ACC: 0.987 | Cost: 7.898\n",
      "Epoch: 003 | Train ACC: 1.000 | Cost: 7.763\n",
      "Epoch: 003 | Train ACC: 1.000 | Cost: 7.697\n",
      "Epoch: 003 | Train ACC: 1.000 | Cost: 7.595\n",
      "Epoch: 003 | Train ACC: 1.000 | Cost: 7.460\n",
      "Epoch: 004 | Train ACC: 1.000 | Cost: 7.381\n",
      "Epoch: 004 | Train ACC: 0.987 | Cost: 7.259\n",
      "Epoch: 004 | Train ACC: 0.987 | Cost: 7.161\n",
      "Epoch: 004 | Train ACC: 1.000 | Cost: 7.041\n",
      "Epoch: 004 | Train ACC: 0.987 | Cost: 6.976\n",
      "Epoch: 004 | Train ACC: 1.000 | Cost: 6.921\n",
      "Epoch: 004 | Train ACC: 1.000 | Cost: 6.839\n",
      "Epoch: 004 | Train ACC: 1.000 | Cost: 6.768\n",
      "Epoch: 004 | Train ACC: 1.000 | Cost: 6.701\n",
      "Epoch: 004 | Train ACC: 1.000 | Cost: 6.627\n",
      "Epoch: 004 | Train ACC: 1.000 | Cost: 6.563\n",
      "Epoch: 004 | Train ACC: 1.000 | Cost: 6.464\n",
      "Epoch: 004 | Train ACC: 1.000 | Cost: 6.409\n",
      "Epoch: 004 | Train ACC: 1.000 | Cost: 6.351\n",
      "Epoch: 004 | Train ACC: 1.000 | Cost: 6.239\n",
      "Epoch: 005 | Train ACC: 1.000 | Cost: 6.185\n",
      "Epoch: 005 | Train ACC: 1.000 | Cost: 6.117\n",
      "Epoch: 005 | Train ACC: 1.000 | Cost: 6.031\n",
      "Epoch: 005 | Train ACC: 1.000 | Cost: 5.962\n",
      "Epoch: 005 | Train ACC: 1.000 | Cost: 5.905\n",
      "Epoch: 005 | Train ACC: 1.000 | Cost: 5.858\n",
      "Epoch: 005 | Train ACC: 1.000 | Cost: 5.795\n",
      "Epoch: 005 | Train ACC: 1.000 | Cost: 5.769\n",
      "Epoch: 005 | Train ACC: 1.000 | Cost: 5.742\n",
      "Epoch: 005 | Train ACC: 1.000 | Cost: 5.664\n",
      "Epoch: 005 | Train ACC: 1.000 | Cost: 5.623\n",
      "Epoch: 005 | Train ACC: 1.000 | Cost: 5.590\n",
      "Epoch: 005 | Train ACC: 1.000 | Cost: 5.548\n",
      "Epoch: 005 | Train ACC: 1.000 | Cost: 5.502\n",
      "Epoch: 005 | Train ACC: 1.000 | Cost: 5.425\n",
      "Epoch: 006 | Train ACC: 1.000 | Cost: 5.371\n",
      "Epoch: 006 | Train ACC: 1.000 | Cost: 5.307\n",
      "Epoch: 006 | Train ACC: 1.000 | Cost: 5.279\n",
      "Epoch: 006 | Train ACC: 1.000 | Cost: 5.251\n",
      "Epoch: 006 | Train ACC: 1.000 | Cost: 5.180\n",
      "Epoch: 006 | Train ACC: 1.000 | Cost: 5.157\n",
      "Epoch: 006 | Train ACC: 1.000 | Cost: 5.134\n",
      "Epoch: 006 | Train ACC: 1.000 | Cost: 5.088\n",
      "Epoch: 006 | Train ACC: 1.000 | Cost: 5.053\n",
      "Epoch: 006 | Train ACC: 1.000 | Cost: 5.019\n",
      "Epoch: 006 | Train ACC: 1.000 | Cost: 4.980\n",
      "Epoch: 006 | Train ACC: 1.000 | Cost: 4.954\n",
      "Epoch: 006 | Train ACC: 1.000 | Cost: 4.920\n",
      "Epoch: 006 | Train ACC: 1.000 | Cost: 4.871\n",
      "Epoch: 006 | Train ACC: 1.000 | Cost: 4.834\n",
      "Epoch: 007 | Train ACC: 1.000 | Cost: 4.792\n",
      "Epoch: 007 | Train ACC: 1.000 | Cost: 4.774\n",
      "Epoch: 007 | Train ACC: 1.000 | Cost: 4.736\n",
      "Epoch: 007 | Train ACC: 1.000 | Cost: 4.719\n",
      "Epoch: 007 | Train ACC: 1.000 | Cost: 4.695\n",
      "Epoch: 007 | Train ACC: 1.000 | Cost: 4.628\n",
      "Epoch: 007 | Train ACC: 1.000 | Cost: 4.608\n",
      "Epoch: 007 | Train ACC: 1.000 | Cost: 4.575\n",
      "Epoch: 007 | Train ACC: 1.000 | Cost: 4.535\n",
      "Epoch: 007 | Train ACC: 1.000 | Cost: 4.518\n",
      "Epoch: 007 | Train ACC: 1.000 | Cost: 4.490\n",
      "Epoch: 007 | Train ACC: 1.000 | Cost: 4.465\n",
      "Epoch: 007 | Train ACC: 1.000 | Cost: 4.436\n",
      "Epoch: 007 | Train ACC: 1.000 | Cost: 4.421\n",
      "Epoch: 007 | Train ACC: 1.000 | Cost: 4.381\n",
      "Epoch: 008 | Train ACC: 1.000 | Cost: 4.357\n",
      "Epoch: 008 | Train ACC: 1.000 | Cost: 4.336\n",
      "Epoch: 008 | Train ACC: 1.000 | Cost: 4.302\n",
      "Epoch: 008 | Train ACC: 1.000 | Cost: 4.287\n",
      "Epoch: 008 | Train ACC: 1.000 | Cost: 4.277\n",
      "Epoch: 008 | Train ACC: 1.000 | Cost: 4.238\n",
      "Epoch: 008 | Train ACC: 1.000 | Cost: 4.210\n",
      "Epoch: 008 | Train ACC: 1.000 | Cost: 4.186\n",
      "Epoch: 008 | Train ACC: 1.000 | Cost: 4.140\n",
      "Epoch: 008 | Train ACC: 1.000 | Cost: 4.102\n",
      "Epoch: 008 | Train ACC: 1.000 | Cost: 4.091\n",
      "Epoch: 008 | Train ACC: 1.000 | Cost: 4.083\n",
      "Epoch: 008 | Train ACC: 1.000 | Cost: 4.065\n",
      "Epoch: 008 | Train ACC: 1.000 | Cost: 4.044\n",
      "Epoch: 008 | Train ACC: 1.000 | Cost: 4.020\n",
      "Epoch: 009 | Train ACC: 1.000 | Cost: 4.009\n",
      "Epoch: 009 | Train ACC: 1.000 | Cost: 3.990\n",
      "Epoch: 009 | Train ACC: 1.000 | Cost: 3.971\n",
      "Epoch: 009 | Train ACC: 1.000 | Cost: 3.959\n",
      "Epoch: 009 | Train ACC: 1.000 | Cost: 3.942\n",
      "Epoch: 009 | Train ACC: 1.000 | Cost: 3.935\n",
      "Epoch: 009 | Train ACC: 1.000 | Cost: 3.919\n",
      "Epoch: 009 | Train ACC: 1.000 | Cost: 3.889\n",
      "Epoch: 009 | Train ACC: 1.000 | Cost: 3.865\n",
      "Epoch: 009 | Train ACC: 1.000 | Cost: 3.846\n",
      "Epoch: 009 | Train ACC: 1.000 | Cost: 3.823\n",
      "Epoch: 009 | Train ACC: 1.000 | Cost: 3.799\n",
      "Epoch: 009 | Train ACC: 1.000 | Cost: 3.789\n",
      "Epoch: 009 | Train ACC: 1.000 | Cost: 3.777\n",
      "Epoch: 009 | Train ACC: 1.000 | Cost: 3.726\n",
      "Epoch: 010 | Train ACC: 1.000 | Cost: 3.709\n",
      "Epoch: 010 | Train ACC: 1.000 | Cost: 3.694\n",
      "Epoch: 010 | Train ACC: 1.000 | Cost: 3.683\n",
      "Epoch: 010 | Train ACC: 1.000 | Cost: 3.659\n",
      "Epoch: 010 | Train ACC: 1.000 | Cost: 3.642\n",
      "Epoch: 010 | Train ACC: 1.000 | Cost: 3.633\n",
      "Epoch: 010 | Train ACC: 1.000 | Cost: 3.615\n",
      "Epoch: 010 | Train ACC: 1.000 | Cost: 3.593\n",
      "Epoch: 010 | Train ACC: 1.000 | Cost: 3.578\n",
      "Epoch: 010 | Train ACC: 1.000 | Cost: 3.569\n",
      "Epoch: 010 | Train ACC: 1.000 | Cost: 3.544\n",
      "Epoch: 010 | Train ACC: 1.000 | Cost: 3.531\n",
      "Epoch: 010 | Train ACC: 1.000 | Cost: 3.524\n",
      "Epoch: 010 | Train ACC: 1.000 | Cost: 3.494\n",
      "Epoch: 010 | Train ACC: 1.000 | Cost: 3.480\n",
      "\n",
      "Model parameters:\n",
      "  Weights: Parameter containing:\n",
      "tensor([[ 3.7662, -2.6409]], requires_grad=True)\n",
      "  Bias: Parameter containing:\n",
      "tensor([0.0643], requires_grad=True)\n"
     ]
    }
   ],
   "source": [
    "model = LogisticRegression3(num_features=2).to(device)\n",
    "optimizer = torch.optim.SGD(model.parameters(), lr=0.1)\n",
    "\n",
    "for epoch in range(num_epochs):\n",
    "    for x,y in trainloader:\n",
    "        #### Compute outputs ####\n",
    "        x= x.float()\n",
    "        out = model(x)\n",
    "\n",
    "        #### Compute gradients ####\n",
    "        cost = cost_fn(out, y)\n",
    "        optimizer.zero_grad()\n",
    "        cost.backward()\n",
    "\n",
    "        #### Update weights ####  \n",
    "        optimizer.step()\n",
    "\n",
    "        #### Logging ####      \n",
    "        pred_probas = model(X_train_tensor)\n",
    "        acc = comp_accuracy(y_train_tensor, pred_probas)\n",
    "        print('Epoch: %03d' % (epoch + 1), end=\"\")\n",
    "        print(' | Train ACC: %.3f' % acc, end=\"\")\n",
    "        print(' | Cost: %.3f' % cost_fn(pred_probas, y_train_tensor))\n",
    "\n",
    "\n",
    "    \n",
    "print('\\nModel parameters:')\n",
    "print('  Weights: %s' % model.linear.weight)\n",
    "print('  Bias: %s' % model.linear.bias)"
   ]
  },
  {
   "cell_type": "code",
   "execution_count": null,
   "metadata": {},
   "outputs": [],
   "source": [
    "X_train.shape"
   ]
  },
  {
   "cell_type": "code",
   "execution_count": null,
   "metadata": {},
   "outputs": [],
   "source": []
  }
 ],
 "metadata": {
  "kernelspec": {
   "display_name": "Python [conda env:tf2_gpu] *",
   "language": "python",
   "name": "conda-env-tf2_gpu-py"
  },
  "language_info": {
   "codemirror_mode": {
    "name": "ipython",
    "version": 3
   },
   "file_extension": ".py",
   "mimetype": "text/x-python",
   "name": "python",
   "nbconvert_exporter": "python",
   "pygments_lexer": "ipython3",
   "version": "3.6.7"
  },
  "toc": {
   "nav_menu": {},
   "number_sections": true,
   "sideBar": true,
   "skip_h1_title": false,
   "title_cell": "Table of Contents",
   "title_sidebar": "Contents",
   "toc_cell": false,
   "toc_position": {},
   "toc_section_display": true,
   "toc_window_display": false
  }
 },
 "nbformat": 4,
 "nbformat_minor": 2
}
