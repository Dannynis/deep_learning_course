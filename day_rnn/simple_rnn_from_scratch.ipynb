{
 "cells": [
  {
   "cell_type": "code",
   "execution_count": 2,
   "metadata": {},
   "outputs": [],
   "source": [
    "import torch\n",
    "from torch.autograd import Variable\n",
    "import numpy as np\n",
    "import pylab as pl\n",
    "import torch.nn.init as init\n",
    "import torch.optim as optim\n"
   ]
  },
  {
   "cell_type": "code",
   "execution_count": 27,
   "metadata": {},
   "outputs": [],
   "source": [
    "dtype = torch.FloatTensor\n",
    "input_size, hidden_size, output_size = 7, 6, 1\n",
    "epochs = 50\n",
    "seq_length = 20\n",
    "lr = 0.001\n",
    "data_time_steps = np.linspace(2, 10, seq_length + 1)\n",
    "data = np.sin(data_time_steps)\n",
    "data.resize((seq_length + 1, 1))\n",
    "\n",
    "x = Variable(torch.Tensor(data[:-1]).type(dtype), requires_grad=False)\n",
    "y = Variable(torch.Tensor(data[1:]).type(dtype), requires_grad=False)"
   ]
  },
  {
   "cell_type": "code",
   "execution_count": 42,
   "metadata": {},
   "outputs": [
    {
     "data": {
      "image/png": "[encoded data removed]",
      "text/plain": [
       "<Figure size 432x288 with 1 Axes>"
      ]
     },
     "metadata": {
      "needs_background": "light"
     },
     "output_type": "display_data"
    }
   ],
   "source": [
    "pl.scatter(data_time_steps[1:], x.data.numpy(), s = 90,label = \"x\")\n",
    "pl.scatter(data_time_steps[1:],  y.data.numpy(), label = \"y\")\n",
    "pl.legend()\n",
    "pl.show()"
   ]
  },
  {
   "cell_type": "code",
   "execution_count": 28,
   "metadata": {},
   "outputs": [
    {
     "name": "stderr",
     "output_type": "stream",
     "text": [
      "/home/dan/anaconda2/envs/tf2_gpu/lib/python3.6/site-packages/ipykernel_launcher.py:2: UserWarning: nn.init.normal is now deprecated in favor of nn.init.normal_.\n",
      "  \n",
      "/home/dan/anaconda2/envs/tf2_gpu/lib/python3.6/site-packages/ipykernel_launcher.py:5: UserWarning: nn.init.normal is now deprecated in favor of nn.init.normal_.\n",
      "  \"\"\"\n"
     ]
    }
   ],
   "source": [
    "w1 = torch.FloatTensor(input_size,hidden_size).type(dtype)\n",
    "init.normal(w1, 0.0, 0.4)\n",
    "w1 = Variable(w1, requires_grad = True)\n",
    "w2 = torch.FloatTensor(hidden_size, output_size).type(dtype)\n",
    "init.normal(w2, 0.0, 0.3)\n",
    "w2 = Variable(w2, requires_grad = True)"
   ]
  },
  {
   "cell_type": "code",
   "execution_count": 29,
   "metadata": {},
   "outputs": [],
   "source": [
    "def forward(input, context_state, w1, w2):\n",
    "   xh = torch.cat((input, context_state), 1)\n",
    "   context_state = torch.tanh(xh.mm(w1))\n",
    "   out = context_state.mm(w2)\n",
    "   return (out, context_state)"
   ]
  },
  {
   "cell_type": "code",
   "execution_count": 30,
   "metadata": {},
   "outputs": [],
   "source": [
    "optimizer = optim.SGD([w1,w2], lr=lr, momentum=0.9)\n"
   ]
  },
  {
   "cell_type": "code",
   "execution_count": 34,
   "metadata": {},
   "outputs": [
    {
     "name": "stdout",
     "output_type": "stream",
     "text": [
      "Epoch: 0 loss 0.020130038261413574\n",
      "Epoch: 1 loss 0.019904689863324165\n",
      "Epoch: 2 loss 0.019679805263876915\n",
      "Epoch: 3 loss 0.01945524662733078\n",
      "Epoch: 4 loss 0.019231006503105164\n",
      "Epoch: 5 loss 0.019006984308362007\n",
      "Epoch: 6 loss 0.01878276653587818\n",
      "Epoch: 7 loss 0.01855855993926525\n",
      "Epoch: 8 loss 0.01833406649529934\n",
      "Epoch: 9 loss 0.018109282478690147\n",
      "Epoch: 10 loss 0.01788398064672947\n",
      "Epoch: 11 loss 0.017658129334449768\n",
      "Epoch: 12 loss 0.01743163727223873\n",
      "Epoch: 13 loss 0.017204267904162407\n",
      "Epoch: 14 loss 0.016976160928606987\n",
      "Epoch: 15 loss 0.0167470034211874\n",
      "Epoch: 16 loss 0.016516925767064095\n",
      "Epoch: 17 loss 0.016285616904497147\n",
      "Epoch: 18 loss 0.016053184866905212\n",
      "Epoch: 19 loss 0.015819495543837547\n",
      "Epoch: 20 loss 0.015584420412778854\n",
      "Epoch: 21 loss 0.015348060056567192\n",
      "Epoch: 22 loss 0.015110097825527191\n",
      "Epoch: 23 loss 0.01487089041620493\n",
      "Epoch: 24 loss 0.014630011282861233\n",
      "Epoch: 25 loss 0.014387683011591434\n",
      "Epoch: 26 loss 0.014143813401460648\n",
      "Epoch: 27 loss 0.013898361474275589\n",
      "Epoch: 28 loss 0.013651289977133274\n",
      "Epoch: 29 loss 0.013402726501226425\n",
      "Epoch: 30 loss 0.013152689673006535\n",
      "Epoch: 31 loss 0.012901044450700283\n",
      "Epoch: 32 loss 0.012647979892790318\n",
      "Epoch: 33 loss 0.012393527664244175\n",
      "Epoch: 34 loss 0.012137620709836483\n",
      "Epoch: 35 loss 0.011880519799888134\n",
      "Epoch: 36 loss 0.011622294783592224\n",
      "Epoch: 37 loss 0.011362805031239986\n",
      "Epoch: 38 loss 0.011102225631475449\n",
      "Epoch: 39 loss 0.010840960778295994\n",
      "Epoch: 40 loss 0.01057880837470293\n",
      "Epoch: 41 loss 0.010316029191017151\n",
      "Epoch: 42 loss 0.010052806697785854\n",
      "Epoch: 43 loss 0.009789261035621166\n",
      "Epoch: 44 loss 0.009525674395263195\n",
      "Epoch: 45 loss 0.0092620262876153\n",
      "Epoch: 46 loss 0.008998638950288296\n",
      "Epoch: 47 loss 0.008735856041312218\n",
      "Epoch: 48 loss 0.008473548106849194\n",
      "Epoch: 49 loss 0.008212152868509293\n"
     ]
    }
   ],
   "source": [
    "for i in range(epochs):\n",
    "   total_loss = 0\n",
    "   context_state = Variable(torch.zeros((1, hidden_size)).type(dtype), requires_grad = True)\n",
    "   for j in range(x.size(0)):\n",
    "      input = x[j:(j+1)]\n",
    "      target = y[j:(j+1)]\n",
    "\n",
    "      (pred, context_state) = forward(input, context_state, w1, w2)\n",
    "      loss = (pred - target).pow(2).sum()/2\n",
    "\n",
    "      optimizer.zero_grad()\n",
    "      loss.backward()\n",
    "      optimizer.step()\n",
    "      context_state = Variable(context_state.data)\n",
    "   print(\"Epoch: {} loss {}\".format(i, loss))\n",
    "\n",
    "context_state = Variable(torch.zeros((1, hidden_size)).type(dtype), requires_grad = False)\n",
    "predictions = []\n",
    "\n",
    "for i in range(x.size(0)):\n",
    "   input = x[i:i+1]\n",
    "   (pred, context_state) = forward(input, context_state, w1, w2)\n",
    "   context_state = context_state\n",
    "   predictions.append(pred.data.numpy().ravel()[0])"
   ]
  },
  {
   "cell_type": "code",
   "execution_count": 32,
   "metadata": {},
   "outputs": [
    {
     "data": {
      "image/png": "[encoded data removed]",
      "text/plain": [
       "<Figure size 432x288 with 1 Axes>"
      ]
     },
     "metadata": {
      "needs_background": "light"
     },
     "output_type": "display_data"
    }
   ],
   "source": [
    "pl.scatter(data_time_steps[:-1], x.data.numpy(), s = 90, label = \"Actual\")\n",
    "pl.scatter(data_time_steps[1:], predictions, label = \"Predicted\")\n",
    "pl.legend()\n",
    "pl.show()"
   ]
  },
  {
   "cell_type": "code",
   "execution_count": null,
   "metadata": {},
   "outputs": [],
   "source": []
  }
 ],
 "metadata": {
  "kernelspec": {
   "display_name": "Python [conda env:tf2_gpu] *",
   "language": "python",
   "name": "conda-env-tf2_gpu-py"
  },
  "language_info": {
   "codemirror_mode": {
    "name": "ipython",
    "version": 3
   },
   "file_extension": ".py",
   "mimetype": "text/x-python",
   "name": "python",
   "nbconvert_exporter": "python",
   "pygments_lexer": "ipython3",
   "version": "3.6.7"
  }
 },
 "nbformat": 4,
 "nbformat_minor": 2
}
