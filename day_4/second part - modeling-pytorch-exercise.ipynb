{
 "cells": [
  {
   "cell_type": "code",
   "execution_count": 1,
   "metadata": {},
   "outputs": [],
   "source": [
    "import os \n",
    "import pickle\n",
    "from tqdm import tqdm\n",
    "import torch.nn.functional as F\n",
    "from torch.utils.data import DataLoader\n",
    "import time\n",
    "from scipy.io import wavfile\n",
    "import pandas as pd\n",
    "import matplotlib.pyplot as plt\n",
    "import numpy as np\n",
    "import torch\n",
    "from sklearn.utils.class_weight import compute_class_weight\n",
    "from tqdm import tqdm_notebook\n",
    "from python_speech_features import mfcc,logfbank\n"
   ]
  },
  {
   "cell_type": "markdown",
   "metadata": {},
   "source": [
    "## Load lables and compute avarage audio length per label"
   ]
  },
  {
   "cell_type": "code",
   "execution_count": 2,
   "metadata": {},
   "outputs": [
    {
     "data": {
      "image/png": "[encoded data removed]",
      "text/plain": [
       "<Figure size 432x288 with 1 Axes>"
      ]
     },
     "metadata": {},
     "output_type": "display_data"
    }
   ],
   "source": [
    "df = pd.read_csv('instruments.csv')\n",
    "df.set_index('fname', inplace=True)\n",
    "\n",
    "for f in df.index:\n",
    "    rate, signal = wavfile.read('clean/'+f)\n",
    "    df.at[f, 'length'] = signal.shape[0]/rate\n",
    "\n",
    "classes = list(np.unique(df.label))\n",
    "class_dist = df.groupby(['label'])['length'].mean()\n",
    "\n",
    "fig, ax = plt.subplots()\n",
    "ax.set_title('Class Distribution', y=1.08)\n",
    "ax.pie(class_dist, labels=class_dist.index, autopct='%1.1f%%',\n",
    "       shadow=False, startangle=90)\n",
    "ax.axis('equal')\n",
    "plt.show()"
   ]
  },
  {
   "cell_type": "code",
   "execution_count": 3,
   "metadata": {},
   "outputs": [],
   "source": [
    "class Config:\n",
    "    def __init__(self,mode='conv',nfilt=26,nfeat=13,nfft=512,rate=16000):\n",
    "        self.mode=mode\n",
    "        self.nfilt = nfilt\n",
    "        self.nfeat = nfeat\n",
    "        self.nfft = nfft\n",
    "        self.rate =rate\n",
    "        self.step = int(rate/10)\n",
    "        self.model_path = os.path.join('models', mode+'.model')\n",
    "        self.p_path = os.path.join('./pickels', mode + '.p')\n",
    "        self.data = None\n"
   ]
  },
  {
   "cell_type": "markdown",
   "metadata": {},
   "source": [
    "### Here we explore the data once agian\n",
    "##### lets print the data frame"
   ]
  },
  {
   "cell_type": "code",
   "execution_count": 4,
   "metadata": {},
   "outputs": [
    {
     "data": {
      "text/html": [
       "<div>\n",
       "<style scoped>\n",
       "    .dataframe tbody tr th:only-of-type {\n",
       "        vertical-align: middle;\n",
       "    }\n",
       "\n",
       "    .dataframe tbody tr th {\n",
       "        vertical-align: top;\n",
       "    }\n",
       "\n",
       "    .dataframe thead th {\n",
       "        text-align: right;\n",
       "    }\n",
       "</style>\n",
       "<table border=\"1\" class=\"dataframe\">\n",
       "  <thead>\n",
       "    <tr style=\"text-align: right;\">\n",
       "      <th></th>\n",
       "      <th>label</th>\n",
       "      <th>length</th>\n",
       "    </tr>\n",
       "    <tr>\n",
       "      <th>fname</th>\n",
       "      <th></th>\n",
       "      <th></th>\n",
       "    </tr>\n",
       "  </thead>\n",
       "  <tbody>\n",
       "    <tr>\n",
       "      <th>5388d14d.wav</th>\n",
       "      <td>Saxophone</td>\n",
       "      <td>4.140000</td>\n",
       "    </tr>\n",
       "    <tr>\n",
       "      <th>c685f05f.wav</th>\n",
       "      <td>Saxophone</td>\n",
       "      <td>1.540000</td>\n",
       "    </tr>\n",
       "    <tr>\n",
       "      <th>36d20ab5.wav</th>\n",
       "      <td>Saxophone</td>\n",
       "      <td>4.890562</td>\n",
       "    </tr>\n",
       "    <tr>\n",
       "      <th>d6665734.wav</th>\n",
       "      <td>Saxophone</td>\n",
       "      <td>10.165812</td>\n",
       "    </tr>\n",
       "    <tr>\n",
       "      <th>7352e28f.wav</th>\n",
       "      <td>Saxophone</td>\n",
       "      <td>6.240000</td>\n",
       "    </tr>\n",
       "    <tr>\n",
       "      <th>...</th>\n",
       "      <td>...</td>\n",
       "      <td>...</td>\n",
       "    </tr>\n",
       "    <tr>\n",
       "      <th>3c713bcf.wav</th>\n",
       "      <td>Clarinet</td>\n",
       "      <td>5.517938</td>\n",
       "    </tr>\n",
       "    <tr>\n",
       "      <th>2fc00271.wav</th>\n",
       "      <td>Clarinet</td>\n",
       "      <td>3.786188</td>\n",
       "    </tr>\n",
       "    <tr>\n",
       "      <th>b0c06255.wav</th>\n",
       "      <td>Clarinet</td>\n",
       "      <td>3.831000</td>\n",
       "    </tr>\n",
       "    <tr>\n",
       "      <th>71c6451f.wav</th>\n",
       "      <td>Clarinet</td>\n",
       "      <td>2.420875</td>\n",
       "    </tr>\n",
       "    <tr>\n",
       "      <th>5de123c3.wav</th>\n",
       "      <td>Clarinet</td>\n",
       "      <td>2.931687</td>\n",
       "    </tr>\n",
       "  </tbody>\n",
       "</table>\n",
       "<p>300 rows × 2 columns</p>\n",
       "</div>"
      ],
      "text/plain": [
       "                  label     length\n",
       "fname                             \n",
       "5388d14d.wav  Saxophone   4.140000\n",
       "c685f05f.wav  Saxophone   1.540000\n",
       "36d20ab5.wav  Saxophone   4.890562\n",
       "d6665734.wav  Saxophone  10.165812\n",
       "7352e28f.wav  Saxophone   6.240000\n",
       "...                 ...        ...\n",
       "3c713bcf.wav   Clarinet   5.517938\n",
       "2fc00271.wav   Clarinet   3.786188\n",
       "b0c06255.wav   Clarinet   3.831000\n",
       "71c6451f.wav   Clarinet   2.420875\n",
       "5de123c3.wav   Clarinet   2.931687\n",
       "\n",
       "[300 rows x 2 columns]"
      ]
     },
     "execution_count": 4,
     "metadata": {},
     "output_type": "execute_result"
    }
   ],
   "source": [
    "df"
   ]
  },
  {
   "cell_type": "code",
   "execution_count": 9,
   "metadata": {},
   "outputs": [],
   "source": [
    "config = Config()\n",
    "device = 'cpu'"
   ]
  },
  {
   "cell_type": "code",
   "execution_count": null,
   "metadata": {},
   "outputs": [],
   "source": [
    "def check_data():\n",
    "    if os.path.isfile(config.p_path):\n",
    "        print ('Loading existing data from {} model'.format(config.mode))\n",
    "        with open(config.p_path,'rb') as handle:\n",
    "            tmp = pickle.load(handle)\n",
    "            return tmp\n",
    "    else:\n",
    "        return None"
   ]
  },
  {
   "cell_type": "code",
   "execution_count": 6,
   "metadata": {},
   "outputs": [],
   "source": [
    "def return_sample(dummy) :\n",
    "    rand_class = np.random.choice(class_dist.index,p=prob_dist)\n",
    "    file = np.random.choice(df[df.label==rand_class].index)\n",
    "    rate, wav = wavfile.read('clean/'+file)\n",
    "    label = df.at[file,'label']\n",
    "    # After we loaded a random file take random window\n",
    "    # of signal from it, the length of the window is\n",
    "    # set in the configuration object \n",
    "    # and return the MFCC of that window\n",
    "    #############################################\n",
    "                    #YOUR CODE HERE#\n",
    "    \n",
    "    #############################################\n",
    "\n",
    "    return X_sample,classes.index(label)\n"
   ]
  },
  {
   "cell_type": "code",
   "execution_count": 8,
   "metadata": {},
   "outputs": [],
   "source": [
    "import multiprocessing\n",
    "\n",
    "def build_rand_feat():\n",
    "    tmp = check_data()\n",
    "    if tmp:\n",
    "        print ('data exist')\n",
    "        return tmp.data[0], tmp.data[1]\n",
    "    \n",
    "    X = []\n",
    "    y = []\n",
    "    _min,_max = float('inf'),-float('inf')\n",
    "    pool = multiprocessing.Pool(4)\n",
    "    total_samples = 200000\n",
    "    results= list(tqdm(pool.imap_unordered(return_sample,range(total_samples)),total=total_samples))\n",
    "    pool.close()\n",
    "    for result in results :\n",
    "        _min = min(np.amin(result[0]),_min)\n",
    "        _max = max(np.amin(result[0]),_max)\n",
    "        X.append(result[0])\n",
    "        y.append(result[1])\n",
    "\n",
    "\n",
    "    config.min = _min\n",
    "    config.max = _max\n",
    "    X,y = np.array(X), np.array(y)\n",
    "    \n",
    "    \n",
    "    #Normlize the X data to be on [0,1] scale\n",
    "    #############################################\n",
    "                    #YOUR CODE HERE#\n",
    "    raise NotImplementedError\n",
    "\n",
    "    #############################################\n",
    "    \n",
    "\n",
    "    \n",
    "    config.data = (X,y)\n",
    "    \n",
    "    with open('./pickels/conv.p','wb') as handle:\n",
    "        pickle.dump(config,handle,protocol=2)\n",
    "        \n",
    "    return X,y"
   ]
  },
  {
   "cell_type": "markdown",
   "metadata": {},
   "source": [
    "## Now is the model building part\n",
    "### below is a Keras syntax for a CNN, consider at a pseudo code for your network\n",
    "### and reconstruct it as pytorch model\n",
    "### (if you are brave enoght go on network of your own)"
   ]
  },
  {
   "cell_type": "code",
   "execution_count": null,
   "metadata": {},
   "outputs": [],
   "source": [
    "\n",
    "# model.add(Conv2D(16,(3,3),activation='relu',strides=(1,1),padding='same',input_shape=input_shape))\n",
    "# model.add(Conv2D(32,(3,3),activation='relu',strides=(1,1),padding='same'))\n",
    "# model.add(Conv2D(64,(3,3),activation='relu',strides=(1,1),padding='same'))\n",
    "# model.add(Conv2D(128,(3,3),activation='relu',strides=(1,1),padding='same'))\n",
    "# model.add(MaxPool2D((2,2)))\n",
    "# model.add(Dropout(0.5))\n",
    "# model.add(Flatten())\n",
    "# model.add(Dense(128,activation='relu'))\n",
    "# model.add(Dense(64,activation='relu'))\n",
    "# model.add(Dense(10,activation='softmax'))\n"
   ]
  },
  {
   "cell_type": "code",
   "execution_count": 12,
   "metadata": {},
   "outputs": [],
   "source": [
    "class ConvNet(torch.nn.Module):\n",
    "\n",
    "    def __init__(self, num_classes):\n",
    "        super(ConvNet, self).__init__()\n",
    "          \n",
    "        #############################################\n",
    "                        #YOUR CODE HERE#\n",
    "        raise NotImplementedError\n",
    "\n",
    "        #############################################\n",
    "\n",
    "        \n",
    "    def forward(self, x):\n",
    "        \n",
    "              \n",
    "        #############################################\n",
    "                        #YOUR CODE HERE#\n",
    "        raise NotImplementedError\n",
    "\n",
    "        #############################################\n",
    "\n",
    "        \n",
    "        return logits, probas"
   ]
  },
  {
   "cell_type": "code",
   "execution_count": null,
   "metadata": {
    "scrolled": true
   },
   "outputs": [],
   "source": [
    "X,y = build_rand_feat()"
   ]
  },
  {
   "cell_type": "code",
   "execution_count": null,
   "metadata": {},
   "outputs": [],
   "source": [
    "model = ConvNet(10).to(device)"
   ]
  },
  {
   "cell_type": "code",
   "execution_count": null,
   "metadata": {},
   "outputs": [],
   "source": [
    "train_loader = DataLoader(dataset=list(zip(X.reshape(200000,1,9,13),y)), \n",
    "                          batch_size=1000, \n",
    "                          shuffle=True)"
   ]
  },
  {
   "cell_type": "code",
   "execution_count": 13,
   "metadata": {
    "scrolled": true
   },
   "outputs": [
    {
     "ename": "NameError",
     "evalue": "name 'model' is not defined",
     "output_type": "error",
     "traceback": [
      "\u001b[0;31m---------------------------------------------------------------------------\u001b[0m",
      "\u001b[0;31mNameError\u001b[0m                                 Traceback (most recent call last)",
      "\u001b[0;32m<ipython-input-13-a2f47eae35f6>\u001b[0m in \u001b[0;36m<module>\u001b[0;34m\u001b[0m\n\u001b[1;32m     16\u001b[0m \u001b[0;31m# optimizer = #set the optimizer to SGD#\u001b[0m\u001b[0;34m\u001b[0m\u001b[0;34m\u001b[0m\u001b[0;34m\u001b[0m\u001b[0m\n\u001b[1;32m     17\u001b[0m \u001b[0;32mfor\u001b[0m \u001b[0mepoch\u001b[0m \u001b[0;32min\u001b[0m \u001b[0mrange\u001b[0m\u001b[0;34m(\u001b[0m\u001b[0mnum_epochs\u001b[0m\u001b[0;34m)\u001b[0m\u001b[0;34m:\u001b[0m\u001b[0;34m\u001b[0m\u001b[0;34m\u001b[0m\u001b[0m\n\u001b[0;32m---> 18\u001b[0;31m     \u001b[0mmodel\u001b[0m \u001b[0;34m=\u001b[0m \u001b[0mmodel\u001b[0m\u001b[0;34m.\u001b[0m\u001b[0mtrain\u001b[0m\u001b[0;34m(\u001b[0m\u001b[0;34m)\u001b[0m\u001b[0;34m\u001b[0m\u001b[0;34m\u001b[0m\u001b[0m\n\u001b[0m\u001b[1;32m     19\u001b[0m     \u001b[0;32mfor\u001b[0m \u001b[0mbatch_idx\u001b[0m\u001b[0;34m,\u001b[0m \u001b[0;34m(\u001b[0m\u001b[0mfeatures\u001b[0m\u001b[0;34m,\u001b[0m \u001b[0mtargets\u001b[0m\u001b[0;34m)\u001b[0m \u001b[0;32min\u001b[0m \u001b[0menumerate\u001b[0m\u001b[0;34m(\u001b[0m\u001b[0mtrain_loader\u001b[0m\u001b[0;34m)\u001b[0m\u001b[0;34m:\u001b[0m\u001b[0;34m\u001b[0m\u001b[0;34m\u001b[0m\u001b[0m\n\u001b[1;32m     20\u001b[0m \u001b[0;34m\u001b[0m\u001b[0m\n",
      "\u001b[0;31mNameError\u001b[0m: name 'model' is not defined"
     ]
    }
   ],
   "source": [
    "def compute_accuracy(model, data_loader):\n",
    "    correct_pred, num_examples = 0, 0\n",
    "    for features, targets in data_loader:\n",
    "        features = features.to(device).float()\n",
    "        targets = targets.to(device)\n",
    "        logits, probas = model(features)\n",
    "        _, predicted_labels = torch.max(probas, 1)\n",
    "        num_examples += targets.size(0)\n",
    "        correct_pred += (predicted_labels == targets).sum()\n",
    "    return correct_pred.float()/num_examples * 100\n",
    "    \n",
    "\n",
    "start_time = time.time()\n",
    "learning_rate = 0.01\n",
    "num_epochs = 30\n",
    "# optimizer = #set the optimizer to SGD#\n",
    "for epoch in range(num_epochs):\n",
    "    model = model.train()\n",
    "    for batch_idx, (features, targets) in enumerate(train_loader):\n",
    "        \n",
    "        ## Train your model\n",
    "        \n",
    "        \n",
    "        if not batch_idx % 50:\n",
    "            print ('Epoch: %03d/%03d | Batch %03d/%03d | Cost: %.4f' \n",
    "                   %(epoch+1, num_epochs, batch_idx, \n",
    "                     len(train_loader), cost))\n",
    "    \n",
    "    model = model.eval()\n",
    "    print('Epoch: %03d/%03d training accuracy: %.2f%%' % (\n",
    "          epoch+1, num_epochs, \n",
    "          compute_accuracy(model, train_loader)))\n",
    "\n",
    "    print('Time elapsed: %.2f min' % ((time.time() - start_time)/60))\n",
    "    \n",
    "print('Total Training Time: %.2f min' % ((time.time() - start_time)/60))"
   ]
  },
  {
   "cell_type": "code",
   "execution_count": null,
   "metadata": {},
   "outputs": [],
   "source": []
  }
 ],
 "metadata": {
  "kernelspec": {
   "display_name": "Python 3",
   "language": "python",
   "name": "python3"
  },
  "language_info": {
   "codemirror_mode": {
    "name": "ipython",
    "version": 3
   },
   "file_extension": ".py",
   "mimetype": "text/x-python",
   "name": "python",
   "nbconvert_exporter": "python",
   "pygments_lexer": "ipython3",
   "version": "3.6.7"
  }
 },
 "nbformat": 4,
 "nbformat_minor": 2
}
