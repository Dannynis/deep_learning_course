{
 "cells": [
  {
   "cell_type": "code",
   "execution_count": 59,
   "metadata": {
    "colab": {},
    "colab_type": "code",
    "id": "Oku34a34N2cR"
   },
   "outputs": [],
   "source": [
    "import torch\n",
    "import torch.utils.data\n",
    "import torch.optim as optim\n",
    "import numpy as np\n",
    "import torch.nn as nn\n",
    "import torch.nn.functional as F\n",
    "import os\n",
    "from scipy.io import wavfile\n",
    "from python_speech_features import mfcc, logfbank\n",
    "from tqdm import tqdm \n",
    "import pickle\n",
    "import time\n",
    "import matplotlib.pyplot as plt"
   ]
  },
  {
   "cell_type": "code",
   "execution_count": 2,
   "metadata": {
    "colab": {},
    "colab_type": "code",
    "id": "AA6PZEzBN2ci"
   },
   "outputs": [],
   "source": [
    "from tdnn import TDNN"
   ]
  },
  {
   "cell_type": "code",
   "execution_count": 3,
   "metadata": {
    "colab": {},
    "colab_type": "code",
    "id": "iMVzRck5N2cu"
   },
   "outputs": [],
   "source": [
    "import torch.nn.functional as F\n",
    "from torch.autograd import Variable\n",
    "import math\n",
    "\n",
    "\n",
    "class StatsPooling(nn.Module):\n",
    "    def __init__(self):\n",
    "        super(StatsPooling,self).__init__()\n",
    "\n",
    "    def forward(self,varient_length_tensor):\n",
    "        mean = varient_length_tensor.mean(dim=2)\n",
    "        std = varient_length_tensor.std(dim=2)\n",
    "        return torch.cat((mean,std),dim=1)\n",
    "\n"
   ]
  },
  {
   "cell_type": "markdown",
   "metadata": {
    "colab_type": "text",
    "id": "yk6wwv5BN2c3"
   },
   "source": [
    " ## Data preperation"
   ]
  },
  {
   "cell_type": "code",
   "execution_count": 4,
   "metadata": {
    "colab": {},
    "colab_type": "code",
    "id": "lFhgKMwXN2c6"
   },
   "outputs": [],
   "source": [
    "def chunks(l, n):\n",
    "    \"\"\"Yield successive n-sized chunks from l.\"\"\"\n",
    "    for i in range(0, len(l), n):\n",
    "        yield l[i:i + n]"
   ]
  },
  {
   "cell_type": "code",
   "execution_count": 5,
   "metadata": {
    "colab": {},
    "colab_type": "code",
    "id": "aKAa93W2N2dD"
   },
   "outputs": [],
   "source": [
    "def to_categorical(y, num_classes):\n",
    "    \"\"\" 1-hot encodes a tensor \"\"\"\n",
    "    return np.eye(num_classes, dtype='uint8')[y]"
   ]
  },
  {
   "cell_type": "code",
   "execution_count": 6,
   "metadata": {
    "colab": {},
    "colab_type": "code",
    "id": "Zq18P6AeN2dL"
   },
   "outputs": [],
   "source": [
    "clases = ['Trump','Macron','Gaga','Clinton']"
   ]
  },
  {
   "cell_type": "code",
   "execution_count": 7,
   "metadata": {
    "colab": {},
    "colab_type": "code",
    "id": "8uSQk5LSN2dR",
    "scrolled": true
   },
   "outputs": [],
   "source": [
    "# X = []\n",
    "# y = []\n",
    "# max_total_context = 400\n",
    "# _min,_max = float('inf'),-float('inf')\n",
    "\n",
    "# for wav_name in os.listdir('train_cleaned'):\n",
    "#     if wav_name.endswith('wav'):\n",
    "#         print (wav_name)\n",
    "#         rate, wav = wavfile.read(r'train_cleaned/'+wav_name)\n",
    "#         for chunked_wav in tqdm(chunks(wav,int(len(wav)/4))):\n",
    "#             X_sample = mfcc(chunked_wav,samplerate= rate,numcep=24\n",
    "#                    ,nfilt=26,nfft=1024)\n",
    "#             _min = min(np.amin(X_sample),_min)\n",
    "#             _max = max(np.amax(X_sample),_max)\n",
    "            \n",
    "#             for chunked_X_sample in list(chunks(X_sample,max_total_context)):\n",
    "#                 if len(chunked_X_sample) == max_total_context:\n",
    "#                     X.append(chunked_X_sample)\n",
    "#                     y.append(to_categorical(clases.index(wav_name.split('.wav')[0]),len(clases)))\n",
    "#                 else:\n",
    "#                     print ('discarded box')\n",
    "# X = (X - _min) / (_max-_min)\n",
    "# with open('X_data.pkl','wb') as f:\n",
    "#     pickle.dump((X,y),f)"
   ]
  },
  {
   "cell_type": "code",
   "execution_count": 8,
   "metadata": {
    "colab": {},
    "colab_type": "code",
    "id": "lJpoMA2QN2dX"
   },
   "outputs": [],
   "source": [
    "with open('X_data_16_06.pkl','rb') as f:\n",
    "    X,y =  pickle.load(f)"
   ]
  },
  {
   "cell_type": "code",
   "execution_count": 60,
   "metadata": {},
   "outputs": [
    {
     "data": {
      "text/plain": [
       "(array([488.,   0.,   0., 500.,   0.,   0., 136.,   0.,   0., 496.]),\n",
       " array([0. , 0.3, 0.6, 0.9, 1.2, 1.5, 1.8, 2.1, 2.4, 2.7, 3. ]),\n",
       " <a list of 10 Patch objects>)"
      ]
     },
     "execution_count": 60,
     "metadata": {},
     "output_type": "execute_result"
    },
    {
     "data": {
      "image/png": "[encoded data removed]",
      "text/plain": [
       "<Figure size 432x288 with 1 Axes>"
      ]
     },
     "metadata": {
      "needs_background": "light"
     },
     "output_type": "display_data"
    }
   ],
   "source": [
    "plt.hist(np.argmax(y,axis=1))"
   ]
  },
  {
   "cell_type": "code",
   "execution_count": 9,
   "metadata": {
    "colab": {},
    "colab_type": "code",
    "id": "s-F6AKTHN2dg"
   },
   "outputs": [],
   "source": [
    "\n",
    "trainloader = torch.utils.data.DataLoader(list(zip(X,y)), shuffle=True, batch_size=50)"
   ]
  },
  {
   "cell_type": "code",
   "execution_count": 13,
   "metadata": {
    "colab": {},
    "colab_type": "code",
    "id": "PJGFYieZN2eQ"
   },
   "outputs": [],
   "source": [
    "def chunks(l, n):\n",
    "    \"\"\"Yield successive n-sized chunks from l.\"\"\"\n",
    "    for i in range(0, len(l), n):\n",
    "        yield l[i:i + n]\n",
    "        \n",
    "class StatsPooling(nn.Module):\n",
    "    def __init__(self):\n",
    "        super(StatsPooling,self).__init__()\n",
    "\n",
    "    def forward(self,varient_length_tensor):\n",
    "        mean = varient_length_tensor.mean(dim=2)\n",
    "        std = varient_length_tensor.std(dim=2)\n",
    "        return torch.cat((mean,std),dim=1)\n",
    "\n",
    "class Xvector(nn.Module):\n",
    "    def __init__(self):\n",
    "        super(Xvector, self).__init__()\n",
    "        context = [-2,2]\n",
    "        input_dim = 24\n",
    "        output_dim = 512\n",
    "        self.net1 = TDNN(context, input_dim, output_dim, full_context=True)\n",
    "\n",
    "        context = [-2,0,2]\n",
    "        input_dim = 512\n",
    "        output_dim = 512\n",
    "        self.net2 = TDNN(context, input_dim, output_dim, full_context=False)\n",
    "\n",
    "        context = [-3,0,3]\n",
    "        input_dim = 512\n",
    "        output_dim = 512\n",
    "        self.net3 = TDNN(context, input_dim, output_dim, full_context=False)\n",
    "\n",
    "        context = [0]\n",
    "        input_dim = 512\n",
    "        output_dim = 512\n",
    "        self.net4 = TDNN(context, input_dim, output_dim, full_context=True)\n",
    "\n",
    "        context = [0]\n",
    "        input_dim = 512\n",
    "        output_dim = 1500\n",
    "        self.net5 = TDNN(context, input_dim, output_dim, full_context=True)\n",
    "\n",
    "        self.SP = StatsPooling()\n",
    "        self.hidden1 = nn.Linear(3000,512).double()\n",
    "        self.hidden2 = nn.Linear(512,512).double()\n",
    "\n",
    "        self.Final = nn.Linear(512,len(clases)).double()\n",
    "        \n",
    "    def forward(self,x):\n",
    "        x = self.net1(x)\n",
    "        x = self.net2(x)\n",
    "        x = self.net3(x)\n",
    "        x = self.net4(x)\n",
    "        x = self.net5(x)\n",
    "        x = self.SP(x).double()\n",
    "        x = F.relu(self.hidden1(x))\n",
    "        embedding = x \n",
    "        x = F.relu(self.hidden2(x))\n",
    "        return self.Final(x) ,embedding\n",
    "    "
   ]
  },
  {
   "cell_type": "code",
   "execution_count": 14,
   "metadata": {
    "colab": {},
    "colab_type": "code",
    "id": "EeqGwZypN2ed"
   },
   "outputs": [],
   "source": [
    "net = Xvector()"
   ]
  },
  {
   "cell_type": "code",
   "execution_count": 15,
   "metadata": {
    "colab": {},
    "colab_type": "code",
    "id": "vq5Gp5T6N2em"
   },
   "outputs": [],
   "source": [
    "optimizer = optim.SGD(net.parameters(), lr=0.001, momentum=0.9)\n",
    "criterion = nn.CrossEntropyLoss()"
   ]
  },
  {
   "cell_type": "code",
   "execution_count": null,
   "metadata": {
    "colab": {},
    "colab_type": "code",
    "id": "iPD2H6MsN2ew"
   },
   "outputs": [],
   "source": [
    "net = net.cuda()"
   ]
  },
  {
   "cell_type": "code",
   "execution_count": null,
   "metadata": {
    "colab": {
     "base_uri": "https://localhost:8080/",
     "height": 1000
    },
    "colab_type": "code",
    "id": "q8gYqd5bN2fG",
    "outputId": "97c18643-a4ec-4bfa-d854-c013347e272f",
    "scrolled": true
   },
   "outputs": [],
   "source": [
    "epocs = 300\n",
    "for j in range (epocs):\n",
    "    for i, data in enumerate(trainloader, 0):\n",
    "        a = time.time()\n",
    "        # get the inputs; data is a list of [inputs, labels]\n",
    "        inputs, labels = data\n",
    "        inputs=inputs.transpose(1,2).float()\n",
    "        inputs, labels = inputs.cuda(), labels.cuda()\n",
    "        output= net(inputs)[0].cuda()\n",
    "        optimizer.zero_grad()\n",
    "        loss = criterion(output, torch.max(labels, 1)[1])\n",
    "        loss.backward()\n",
    "        optimizer.step()\n",
    "        b = time.time()\n",
    "    print (\"loss: {} step took {}\".format(loss,b-a))\n",
    "    # print (\"output:\\n{} \\n labels:\\n{}\".format(output,labels))\n",
    "    # torch.save(net, 'total_model_batch_normed')\n"
   ]
  },
  {
   "cell_type": "code",
   "execution_count": null,
   "metadata": {
    "colab": {
     "base_uri": "https://localhost:8080/",
     "height": 211
    },
    "colab_type": "code",
    "id": "RwtROyKgaX0W",
    "outputId": "2fb4a9dc-a823-49c3-d2e2-d9f92d46082e"
   },
   "outputs": [],
   "source": [
    "  torch.save(net, 'model')\n"
   ]
  },
  {
   "cell_type": "markdown",
   "metadata": {
    "colab_type": "text",
    "id": "BGYV7Z2FN2fm"
   },
   "source": [
    " ### Testing"
   ]
  },
  {
   "cell_type": "code",
   "execution_count": 17,
   "metadata": {
    "colab": {},
    "colab_type": "code",
    "id": "McVdE2OsN2fN"
   },
   "outputs": [],
   "source": [
    "xvec = torch.load('model')"
   ]
  },
  {
   "cell_type": "code",
   "execution_count": 18,
   "metadata": {
    "colab": {},
    "colab_type": "code",
    "id": "4d8dWMdHN2fr",
    "scrolled": true
   },
   "outputs": [
    {
     "data": {
      "text/plain": [
       "Xvector(\n",
       "  (net1): TDNN(\n",
       "    (temporal_conv): Conv1d(24, 512, kernel_size=(5,), stride=(1,))\n",
       "  )\n",
       "  (net2): TDNN(\n",
       "    (temporal_conv): Conv1d(512, 512, kernel_size=(3,), stride=(1,), dilation=(2,))\n",
       "  )\n",
       "  (net3): TDNN(\n",
       "    (temporal_conv): Conv1d(512, 512, kernel_size=(3,), stride=(1,), dilation=(3,))\n",
       "  )\n",
       "  (net4): TDNN(\n",
       "    (temporal_conv): Conv1d(512, 512, kernel_size=(1,), stride=(1,))\n",
       "  )\n",
       "  (net5): TDNN(\n",
       "    (temporal_conv): Conv1d(512, 1500, kernel_size=(1,), stride=(1,))\n",
       "  )\n",
       "  (SP): StatsPooling()\n",
       "  (hidden1): Linear(in_features=3000, out_features=512, bias=True)\n",
       "  (hidden2): Linear(in_features=512, out_features=512, bias=True)\n",
       "  (Final): Linear(in_features=512, out_features=4, bias=True)\n",
       ")"
      ]
     },
     "execution_count": 18,
     "metadata": {},
     "output_type": "execute_result"
    }
   ],
   "source": [
    "xvec.eval()"
   ]
  },
  {
   "cell_type": "code",
   "execution_count": 19,
   "metadata": {
    "colab": {},
    "colab_type": "code",
    "id": "f1fdKsNHN2gE"
   },
   "outputs": [
    {
     "data": {
      "text/plain": [
       "Xvector(\n",
       "  (net1): TDNN(\n",
       "    (temporal_conv): Conv1d(24, 512, kernel_size=(5,), stride=(1,))\n",
       "  )\n",
       "  (net2): TDNN(\n",
       "    (temporal_conv): Conv1d(512, 512, kernel_size=(3,), stride=(1,), dilation=(2,))\n",
       "  )\n",
       "  (net3): TDNN(\n",
       "    (temporal_conv): Conv1d(512, 512, kernel_size=(3,), stride=(1,), dilation=(3,))\n",
       "  )\n",
       "  (net4): TDNN(\n",
       "    (temporal_conv): Conv1d(512, 512, kernel_size=(1,), stride=(1,))\n",
       "  )\n",
       "  (net5): TDNN(\n",
       "    (temporal_conv): Conv1d(512, 1500, kernel_size=(1,), stride=(1,))\n",
       "  )\n",
       "  (SP): StatsPooling()\n",
       "  (hidden1): Linear(in_features=3000, out_features=512, bias=True)\n",
       "  (hidden2): Linear(in_features=512, out_features=512, bias=True)\n",
       "  (Final): Linear(in_features=512, out_features=4, bias=True)\n",
       ")"
      ]
     },
     "execution_count": 19,
     "metadata": {},
     "output_type": "execute_result"
    }
   ],
   "source": [
    "xvec.cuda()"
   ]
  },
  {
   "cell_type": "code",
   "execution_count": 56,
   "metadata": {
    "colab": {
     "base_uri": "https://localhost:8080/",
     "height": 358
    },
    "colab_type": "code",
    "id": "HZFmrni3N2gJ",
    "outputId": "3edf1869-f446-40ed-ca83-29fe2adf2c8d",
    "scrolled": true
   },
   "outputs": [
    {
     "name": "stderr",
     "output_type": "stream",
     "text": [
      "/home/dan/anaconda2/envs/tf2_gpu/lib/python3.6/site-packages/scipy/io/wavfile.py:273: WavFileWarning: Chunk (non-data) not understood, skipping it.\n",
      "  WavFileWarning)\n",
      "  0%|          | 0/100 [00:00<?, ?it/s]WARNING:root:frame length (1103) is greater than FFT size (1024), frame will be truncated. Increase NFFT to avoid.\n",
      "WARNING:root:frame length (1103) is greater than FFT size (1024), frame will be truncated. Increase NFFT to avoid.\n",
      "WARNING:root:frame length (1103) is greater than FFT size (1024), frame will be truncated. Increase NFFT to avoid.\n",
      "  3%|▎         | 3/100 [00:00<00:04, 21.58it/s]WARNING:root:frame length (1103) is greater than FFT size (1024), frame will be truncated. Increase NFFT to avoid.\n",
      "WARNING:root:frame length (1103) is greater than FFT size (1024), frame will be truncated. Increase NFFT to avoid.\n",
      "  5%|▌         | 5/100 [00:00<00:04, 19.51it/s]WARNING:root:frame length (1103) is greater than FFT size (1024), frame will be truncated. Increase NFFT to avoid.\n",
      "  6%|▌         | 6/100 [00:00<00:06, 14.66it/s]WARNING:root:frame length (1103) is greater than FFT size (1024), frame will be truncated. Increase NFFT to avoid.\n",
      "WARNING:root:frame length (1103) is greater than FFT size (1024), frame will be truncated. Increase NFFT to avoid.\n",
      "WARNING:root:frame length (1103) is greater than FFT size (1024), frame will be truncated. Increase NFFT to avoid.\n",
      "  9%|▉         | 9/100 [00:00<00:05, 16.49it/s]WARNING:root:frame length (1103) is greater than FFT size (1024), frame will be truncated. Increase NFFT to avoid.\n",
      "WARNING:root:frame length (1103) is greater than FFT size (1024), frame will be truncated. Increase NFFT to avoid.\n",
      "WARNING:root:frame length (1103) is greater than FFT size (1024), frame will be truncated. Increase NFFT to avoid.\n",
      " 12%|█▏        | 12/100 [00:00<00:04, 18.10it/s]WARNING:root:frame length (1103) is greater than FFT size (1024), frame will be truncated. Increase NFFT to avoid.\n",
      "WARNING:root:frame length (1103) is greater than FFT size (1024), frame will be truncated. Increase NFFT to avoid.\n",
      " 14%|█▍        | 14/100 [00:00<00:05, 15.47it/s]WARNING:root:frame length (1103) is greater than FFT size (1024), frame will be truncated. Increase NFFT to avoid.\n",
      "WARNING:root:frame length (1103) is greater than FFT size (1024), frame will be truncated. Increase NFFT to avoid.\n",
      "WARNING:root:frame length (1103) is greater than FFT size (1024), frame will be truncated. Increase NFFT to avoid.\n",
      " 17%|█▋        | 17/100 [00:00<00:04, 17.35it/s]WARNING:root:frame length (1103) is greater than FFT size (1024), frame will be truncated. Increase NFFT to avoid.\n",
      "WARNING:root:frame length (1103) is greater than FFT size (1024), frame will be truncated. Increase NFFT to avoid.\n",
      " 19%|█▉        | 19/100 [00:01<00:05, 15.61it/s]WARNING:root:frame length (1103) is greater than FFT size (1024), frame will be truncated. Increase NFFT to avoid.\n",
      "WARNING:root:frame length (1103) is greater than FFT size (1024), frame will be truncated. Increase NFFT to avoid.\n",
      " 21%|██        | 21/100 [00:01<00:04, 16.55it/s]WARNING:root:frame length (1103) is greater than FFT size (1024), frame will be truncated. Increase NFFT to avoid.\n",
      "WARNING:root:frame length (1103) is greater than FFT size (1024), frame will be truncated. Increase NFFT to avoid.\n",
      " 23%|██▎       | 23/100 [00:01<00:04, 16.04it/s]WARNING:root:frame length (1103) is greater than FFT size (1024), frame will be truncated. Increase NFFT to avoid.\n",
      "WARNING:root:frame length (1103) is greater than FFT size (1024), frame will be truncated. Increase NFFT to avoid.\n",
      " 25%|██▌       | 25/100 [00:01<00:04, 15.76it/s]WARNING:root:frame length (1103) is greater than FFT size (1024), frame will be truncated. Increase NFFT to avoid.\n",
      "WARNING:root:frame length (1103) is greater than FFT size (1024), frame will be truncated. Increase NFFT to avoid.\n",
      " 27%|██▋       | 27/100 [00:01<00:04, 16.74it/s]WARNING:root:frame length (1103) is greater than FFT size (1024), frame will be truncated. Increase NFFT to avoid.\n",
      "WARNING:root:frame length (1103) is greater than FFT size (1024), frame will be truncated. Increase NFFT to avoid.\n",
      "WARNING:root:frame length (1103) is greater than FFT size (1024), frame will be truncated. Increase NFFT to avoid.\n",
      " 30%|███       | 30/100 [00:01<00:03, 17.89it/s]WARNING:root:frame length (1103) is greater than FFT size (1024), frame will be truncated. Increase NFFT to avoid.\n",
      "WARNING:root:frame length (1103) is greater than FFT size (1024), frame will be truncated. Increase NFFT to avoid.\n",
      "WARNING:root:frame length (1103) is greater than FFT size (1024), frame will be truncated. Increase NFFT to avoid.\n",
      " 33%|███▎      | 33/100 [00:01<00:03, 18.78it/s]WARNING:root:frame length (1103) is greater than FFT size (1024), frame will be truncated. Increase NFFT to avoid.\n",
      "WARNING:root:frame length (1103) is greater than FFT size (1024), frame will be truncated. Increase NFFT to avoid.\n",
      "WARNING:root:frame length (1103) is greater than FFT size (1024), frame will be truncated. Increase NFFT to avoid.\n",
      " 36%|███▌      | 36/100 [00:01<00:03, 19.93it/s]WARNING:root:frame length (1103) is greater than FFT size (1024), frame will be truncated. Increase NFFT to avoid.\n",
      "WARNING:root:frame length (1103) is greater than FFT size (1024), frame will be truncated. Increase NFFT to avoid.\n",
      "WARNING:root:frame length (1103) is greater than FFT size (1024), frame will be truncated. Increase NFFT to avoid.\n",
      " 39%|███▉      | 39/100 [00:02<00:03, 20.07it/s]WARNING:root:frame length (1103) is greater than FFT size (1024), frame will be truncated. Increase NFFT to avoid.\n",
      "WARNING:root:frame length (1103) is greater than FFT size (1024), frame will be truncated. Increase NFFT to avoid.\n",
      "WARNING:root:frame length (1103) is greater than FFT size (1024), frame will be truncated. Increase NFFT to avoid.\n",
      " 42%|████▏     | 42/100 [00:02<00:02, 20.51it/s]WARNING:root:frame length (1103) is greater than FFT size (1024), frame will be truncated. Increase NFFT to avoid.\n",
      "WARNING:root:frame length (1103) is greater than FFT size (1024), frame will be truncated. Increase NFFT to avoid.\n",
      "WARNING:root:frame length (1103) is greater than FFT size (1024), frame will be truncated. Increase NFFT to avoid.\n",
      " 45%|████▌     | 45/100 [00:02<00:02, 19.81it/s]WARNING:root:frame length (1103) is greater than FFT size (1024), frame will be truncated. Increase NFFT to avoid.\n",
      "WARNING:root:frame length (1103) is greater than FFT size (1024), frame will be truncated. Increase NFFT to avoid.\n",
      "WARNING:root:frame length (1103) is greater than FFT size (1024), frame will be truncated. Increase NFFT to avoid.\n",
      " 48%|████▊     | 48/100 [00:02<00:02, 19.81it/s]WARNING:root:frame length (1103) is greater than FFT size (1024), frame will be truncated. Increase NFFT to avoid.\n",
      "WARNING:root:frame length (1103) is greater than FFT size (1024), frame will be truncated. Increase NFFT to avoid.\n",
      "WARNING:root:frame length (1103) is greater than FFT size (1024), frame will be truncated. Increase NFFT to avoid.\n",
      " 51%|█████     | 51/100 [00:02<00:02, 19.09it/s]WARNING:root:frame length (1103) is greater than FFT size (1024), frame will be truncated. Increase NFFT to avoid.\n",
      "WARNING:root:frame length (1103) is greater than FFT size (1024), frame will be truncated. Increase NFFT to avoid.\n",
      " 53%|█████▎    | 53/100 [00:02<00:02, 19.02it/s]WARNING:root:frame length (1103) is greater than FFT size (1024), frame will be truncated. Increase NFFT to avoid.\n",
      "WARNING:root:frame length (1103) is greater than FFT size (1024), frame will be truncated. Increase NFFT to avoid.\n",
      " 55%|█████▌    | 55/100 [00:02<00:02, 17.64it/s]WARNING:root:frame length (1103) is greater than FFT size (1024), frame will be truncated. Increase NFFT to avoid.\n",
      "WARNING:root:frame length (1103) is greater than FFT size (1024), frame will be truncated. Increase NFFT to avoid.\n",
      "WARNING:root:frame length (1103) is greater than FFT size (1024), frame will be truncated. Increase NFFT to avoid.\n",
      " 58%|█████▊    | 58/100 [00:03<00:02, 18.13it/s]WARNING:root:frame length (1103) is greater than FFT size (1024), frame will be truncated. Increase NFFT to avoid.\n",
      "WARNING:root:frame length (1103) is greater than FFT size (1024), frame will be truncated. Increase NFFT to avoid.\n"
     ]
    },
    {
     "name": "stderr",
     "output_type": "stream",
     "text": [
      " 60%|██████    | 60/100 [00:03<00:02, 16.93it/s]WARNING:root:frame length (1103) is greater than FFT size (1024), frame will be truncated. Increase NFFT to avoid.\n",
      "WARNING:root:frame length (1103) is greater than FFT size (1024), frame will be truncated. Increase NFFT to avoid.\n",
      "WARNING:root:frame length (1103) is greater than FFT size (1024), frame will be truncated. Increase NFFT to avoid.\n",
      " 63%|██████▎   | 63/100 [00:03<00:01, 19.21it/s]WARNING:root:frame length (1103) is greater than FFT size (1024), frame will be truncated. Increase NFFT to avoid.\n",
      "WARNING:root:frame length (1103) is greater than FFT size (1024), frame will be truncated. Increase NFFT to avoid.\n",
      "WARNING:root:frame length (1103) is greater than FFT size (1024), frame will be truncated. Increase NFFT to avoid.\n",
      " 66%|██████▌   | 66/100 [00:03<00:01, 19.05it/s]WARNING:root:frame length (1103) is greater than FFT size (1024), frame will be truncated. Increase NFFT to avoid.\n",
      "WARNING:root:frame length (1103) is greater than FFT size (1024), frame will be truncated. Increase NFFT to avoid.\n",
      " 68%|██████▊   | 68/100 [00:03<00:01, 17.79it/s]WARNING:root:frame length (1103) is greater than FFT size (1024), frame will be truncated. Increase NFFT to avoid.\n",
      "WARNING:root:frame length (1103) is greater than FFT size (1024), frame will be truncated. Increase NFFT to avoid.\n",
      " 70%|███████   | 70/100 [00:03<00:01, 16.89it/s]WARNING:root:frame length (1103) is greater than FFT size (1024), frame will be truncated. Increase NFFT to avoid.\n",
      "WARNING:root:frame length (1103) is greater than FFT size (1024), frame will be truncated. Increase NFFT to avoid.\n",
      " 72%|███████▏  | 72/100 [00:03<00:01, 17.51it/s]WARNING:root:frame length (1103) is greater than FFT size (1024), frame will be truncated. Increase NFFT to avoid.\n",
      "WARNING:root:frame length (1103) is greater than FFT size (1024), frame will be truncated. Increase NFFT to avoid.\n",
      " 74%|███████▍  | 74/100 [00:04<00:01, 16.72it/s]WARNING:root:frame length (1103) is greater than FFT size (1024), frame will be truncated. Increase NFFT to avoid.\n",
      "WARNING:root:frame length (1103) is greater than FFT size (1024), frame will be truncated. Increase NFFT to avoid.\n",
      " 76%|███████▌  | 76/100 [00:04<00:01, 16.55it/s]WARNING:root:frame length (1103) is greater than FFT size (1024), frame will be truncated. Increase NFFT to avoid.\n",
      "WARNING:root:frame length (1103) is greater than FFT size (1024), frame will be truncated. Increase NFFT to avoid.\n",
      " 78%|███████▊  | 78/100 [00:04<00:01, 16.22it/s]WARNING:root:frame length (1103) is greater than FFT size (1024), frame will be truncated. Increase NFFT to avoid.\n",
      "WARNING:root:frame length (1103) is greater than FFT size (1024), frame will be truncated. Increase NFFT to avoid.\n",
      " 80%|████████  | 80/100 [00:04<00:01, 17.17it/s]WARNING:root:frame length (1103) is greater than FFT size (1024), frame will be truncated. Increase NFFT to avoid.\n",
      "WARNING:root:frame length (1103) is greater than FFT size (1024), frame will be truncated. Increase NFFT to avoid.\n",
      "WARNING:root:frame length (1103) is greater than FFT size (1024), frame will be truncated. Increase NFFT to avoid.\n",
      " 83%|████████▎ | 83/100 [00:04<00:00, 17.84it/s]WARNING:root:frame length (1103) is greater than FFT size (1024), frame will be truncated. Increase NFFT to avoid.\n",
      "WARNING:root:frame length (1103) is greater than FFT size (1024), frame will be truncated. Increase NFFT to avoid.\n",
      "WARNING:root:frame length (1103) is greater than FFT size (1024), frame will be truncated. Increase NFFT to avoid.\n",
      " 86%|████████▌ | 86/100 [00:04<00:00, 18.49it/s]WARNING:root:frame length (1103) is greater than FFT size (1024), frame will be truncated. Increase NFFT to avoid.\n",
      "WARNING:root:frame length (1103) is greater than FFT size (1024), frame will be truncated. Increase NFFT to avoid.\n",
      " 88%|████████▊ | 88/100 [00:04<00:00, 16.00it/s]WARNING:root:frame length (1103) is greater than FFT size (1024), frame will be truncated. Increase NFFT to avoid.\n",
      "WARNING:root:frame length (1103) is greater than FFT size (1024), frame will be truncated. Increase NFFT to avoid.\n",
      " 90%|█████████ | 90/100 [00:04<00:00, 16.14it/s]WARNING:root:frame length (1103) is greater than FFT size (1024), frame will be truncated. Increase NFFT to avoid.\n",
      "WARNING:root:frame length (1103) is greater than FFT size (1024), frame will be truncated. Increase NFFT to avoid.\n",
      " 92%|█████████▏| 92/100 [00:05<00:00, 16.62it/s]WARNING:root:frame length (1103) is greater than FFT size (1024), frame will be truncated. Increase NFFT to avoid.\n",
      "WARNING:root:frame length (1103) is greater than FFT size (1024), frame will be truncated. Increase NFFT to avoid.\n",
      " 94%|█████████▍| 94/100 [00:05<00:00, 15.52it/s]WARNING:root:frame length (1103) is greater than FFT size (1024), frame will be truncated. Increase NFFT to avoid.\n",
      "WARNING:root:frame length (1103) is greater than FFT size (1024), frame will be truncated. Increase NFFT to avoid.\n",
      " 96%|█████████▌| 96/100 [00:05<00:00, 15.97it/s]WARNING:root:frame length (1103) is greater than FFT size (1024), frame will be truncated. Increase NFFT to avoid.\n",
      "WARNING:root:frame length (1103) is greater than FFT size (1024), frame will be truncated. Increase NFFT to avoid.\n",
      " 98%|█████████▊| 98/100 [00:05<00:00, 15.42it/s]WARNING:root:frame length (1103) is greater than FFT size (1024), frame will be truncated. Increase NFFT to avoid.\n",
      "WARNING:root:frame length (1103) is greater than FFT size (1024), frame will be truncated. Increase NFFT to avoid.\n",
      "100%|██████████| 100/100 [00:05<00:00, 17.82it/s]\n"
     ]
    }
   ],
   "source": [
    "wav_path = \"train/Gaga.wav\"\n",
    "max_total_context_test = 400\n",
    "_min,_max = float('inf'),-float('inf')\n",
    "X_test = []\n",
    "rate, wav = wavfile.read(wav_path)\n",
    "for chunked_wav in tqdm(list(chunks(wav,int(len(wav)/400)))[:100]):\n",
    "    X_sample = mfcc(chunked_wav,samplerate= rate,numcep=24\n",
    "           ,nfilt=26,nfft=1024)\n",
    "    _min = min(np.amin(X_sample),_min)\n",
    "    _max = max(np.amax(X_sample),_max)\n",
    "    for chunked_X_sample in list(chunks(X_sample,max_total_context_test)):\n",
    "            if len(chunked_X_sample) == max_total_context_test:\n",
    "                X_test.append(chunked_X_sample)\n",
    "X_test = (X_test - _min) / (_max-_min)\n"
   ]
  },
  {
   "cell_type": "code",
   "execution_count": 58,
   "metadata": {
    "colab": {},
    "colab_type": "code",
    "id": "DVvz9K9oN2gW"
   },
   "outputs": [
    {
     "name": "stdout",
     "output_type": "stream",
     "text": [
      "Gaga\n",
      "Gaga\n",
      "Gaga\n",
      "Gaga\n",
      "Gaga\n",
      "Gaga\n",
      "Gaga\n",
      "Gaga\n",
      "Gaga\n",
      "Gaga\n",
      "Gaga\n",
      "Gaga\n",
      "Gaga\n",
      "Gaga\n",
      "Gaga\n",
      "Gaga\n",
      "Gaga\n",
      "Gaga\n",
      "Gaga\n",
      "Gaga\n"
     ]
    }
   ],
   "source": [
    "output= xvec(torch.tensor(X_test[80:100]).transpose(1,2).float().cuda())\n",
    "for out in output[0]:\n",
    "    print (clases[torch.argmax(out).cpu().numpy()])"
   ]
  }
 ],
 "metadata": {
  "accelerator": "GPU",
  "colab": {
   "collapsed_sections": [],
   "name": "xvector_gpu.ipynb",
   "provenance": []
  },
  "kernelspec": {
   "display_name": "Python 3",
   "language": "python",
   "name": "python3"
  },
  "language_info": {
   "codemirror_mode": {
    "name": "ipython",
    "version": 3
   },
   "file_extension": ".py",
   "mimetype": "text/x-python",
   "name": "python",
   "nbconvert_exporter": "python",
   "pygments_lexer": "ipython3",
   "version": "3.6.7"
  }
 },
 "nbformat": 4,
 "nbformat_minor": 1
}
